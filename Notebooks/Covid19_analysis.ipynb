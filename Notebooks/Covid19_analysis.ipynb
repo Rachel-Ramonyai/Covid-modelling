{
 "cells": [
  {
   "cell_type": "markdown",
   "metadata": {},
   "source": [
    "# COVID-19 ANALYSIS"
   ]
  },
  {
   "cell_type": "markdown",
   "metadata": {},
   "source": [
    "This is an analysis of the COVID-19 pandemic in South Africa from March to August 2020"
   ]
  },
  {
   "cell_type": "markdown",
   "metadata": {},
   "source": [
    "# Load libraries"
   ]
  },
  {
   "cell_type": "code",
   "execution_count": 28,
   "metadata": {},
   "outputs": [],
   "source": [
    "from scipy.integrate import odeint\n",
    "import numpy as np\n",
    "import pandas as pd\n",
    "import seaborn as sns\n",
    "import folium\n",
    "from ggplot import *\n",
    "from datetime import datetime\n",
    "import matplotlib.pyplot as plt\n",
    "%matplotlib inline"
   ]
  },
  {
   "cell_type": "code",
   "execution_count": 4,
   "metadata": {},
   "outputs": [],
   "source": [
    "#national_report = pd.read_csv('../data/nicd_daily_national_report.csv')\n",
    "confirmed = pd.read_csv(\n",
    "    'https://raw.githubusercontent.com/dsfsi/covid19za/master/data/covid19za_provincial_cumulative_timeline_confirmed.csv')\n",
    "recoveries = pd.read_csv(\n",
    "    'https://raw.githubusercontent.com/dsfsi/covid19za/master/data/covid19za_provincial_cumulative_timeline_recoveries.csv')\n",
    "deaths = pd.read_csv(\n",
    "    'https://raw.githubusercontent.com/dsfsi/covid19za/master/data/covid19za_provincial_cumulative_timeline_deaths.csv')"
   ]
  },
  {
   "cell_type": "code",
   "execution_count": 5,
   "metadata": {},
   "outputs": [],
   "source": [
    "hospitals = pd.read_csv(\n",
    "    'https://raw.githubusercontent.com/dsfsi/covid19za/master/data/health_system_za_hospitals_v1.csv')"
   ]
  },
  {
   "cell_type": "code",
   "execution_count": 6,
   "metadata": {},
   "outputs": [
    {
     "data": {
      "text/html": [
       "<div>\n",
       "<style scoped>\n",
       "    .dataframe tbody tr th:only-of-type {\n",
       "        vertical-align: middle;\n",
       "    }\n",
       "\n",
       "    .dataframe tbody tr th {\n",
       "        vertical-align: top;\n",
       "    }\n",
       "\n",
       "    .dataframe thead th {\n",
       "        text-align: right;\n",
       "    }\n",
       "</style>\n",
       "<table border=\"1\" class=\"dataframe\">\n",
       "  <thead>\n",
       "    <tr style=\"text-align: right;\">\n",
       "      <th></th>\n",
       "      <th>date</th>\n",
       "      <th>YYYYMMDD</th>\n",
       "      <th>EC</th>\n",
       "      <th>FS</th>\n",
       "      <th>GP</th>\n",
       "      <th>KZN</th>\n",
       "      <th>LP</th>\n",
       "      <th>MP</th>\n",
       "      <th>NC</th>\n",
       "      <th>NW</th>\n",
       "      <th>WC</th>\n",
       "      <th>UNKNOWN</th>\n",
       "      <th>total</th>\n",
       "      <th>source</th>\n",
       "    </tr>\n",
       "  </thead>\n",
       "  <tbody>\n",
       "    <tr>\n",
       "      <th>171</th>\n",
       "      <td>2020-08-25</td>\n",
       "      <td>20200825</td>\n",
       "      <td>85311.0</td>\n",
       "      <td>35603.0</td>\n",
       "      <td>206892.0</td>\n",
       "      <td>110521.0</td>\n",
       "      <td>12703.0</td>\n",
       "      <td>23336.0</td>\n",
       "      <td>9375.0</td>\n",
       "      <td>24445.0</td>\n",
       "      <td>104781.0</td>\n",
       "      <td>50.0</td>\n",
       "      <td>613017</td>\n",
       "      <td>https://twitter.com/nicd_sa/status/12983516283...</td>\n",
       "    </tr>\n",
       "    <tr>\n",
       "      <th>172</th>\n",
       "      <td>2020-08-26</td>\n",
       "      <td>20200826</td>\n",
       "      <td>85472.0</td>\n",
       "      <td>35980.0</td>\n",
       "      <td>207610.0</td>\n",
       "      <td>111096.0</td>\n",
       "      <td>12795.0</td>\n",
       "      <td>23555.0</td>\n",
       "      <td>9500.0</td>\n",
       "      <td>24646.0</td>\n",
       "      <td>104997.0</td>\n",
       "      <td>50.0</td>\n",
       "      <td>615701</td>\n",
       "      <td>https://twitter.com/nicd_sa/status/12987029468...</td>\n",
       "    </tr>\n",
       "    <tr>\n",
       "      <th>173</th>\n",
       "      <td>2020-08-27</td>\n",
       "      <td>20200827</td>\n",
       "      <td>85625.0</td>\n",
       "      <td>36419.0</td>\n",
       "      <td>208156.0</td>\n",
       "      <td>111585.0</td>\n",
       "      <td>12867.0</td>\n",
       "      <td>23677.0</td>\n",
       "      <td>9829.0</td>\n",
       "      <td>24805.0</td>\n",
       "      <td>105273.0</td>\n",
       "      <td>50.0</td>\n",
       "      <td>618286</td>\n",
       "      <td>https://twitter.com/nicd_sa/status/12990610006...</td>\n",
       "    </tr>\n",
       "  </tbody>\n",
       "</table>\n",
       "</div>"
      ],
      "text/plain": [
       "          date  YYYYMMDD       EC       FS        GP       KZN       LP  \\\n",
       "171 2020-08-25  20200825  85311.0  35603.0  206892.0  110521.0  12703.0   \n",
       "172 2020-08-26  20200826  85472.0  35980.0  207610.0  111096.0  12795.0   \n",
       "173 2020-08-27  20200827  85625.0  36419.0  208156.0  111585.0  12867.0   \n",
       "\n",
       "          MP      NC       NW        WC  UNKNOWN   total  \\\n",
       "171  23336.0  9375.0  24445.0  104781.0     50.0  613017   \n",
       "172  23555.0  9500.0  24646.0  104997.0     50.0  615701   \n",
       "173  23677.0  9829.0  24805.0  105273.0     50.0  618286   \n",
       "\n",
       "                                                source  \n",
       "171  https://twitter.com/nicd_sa/status/12983516283...  \n",
       "172  https://twitter.com/nicd_sa/status/12987029468...  \n",
       "173  https://twitter.com/nicd_sa/status/12990610006...  "
      ]
     },
     "execution_count": 6,
     "metadata": {},
     "output_type": "execute_result"
    }
   ],
   "source": [
    "confirmed['date'] = pd.to_datetime(confirmed['date'], format='%d-%m-%Y')\n",
    "confirmed.tail(3)"
   ]
  },
  {
   "cell_type": "code",
   "execution_count": 20,
   "metadata": {},
   "outputs": [
    {
     "data": {
      "text/html": [
       "<div>\n",
       "<style scoped>\n",
       "    .dataframe tbody tr th:only-of-type {\n",
       "        vertical-align: middle;\n",
       "    }\n",
       "\n",
       "    .dataframe tbody tr th {\n",
       "        vertical-align: top;\n",
       "    }\n",
       "\n",
       "    .dataframe thead th {\n",
       "        text-align: right;\n",
       "    }\n",
       "</style>\n",
       "<table border=\"1\" class=\"dataframe\">\n",
       "  <thead>\n",
       "    <tr style=\"text-align: right;\">\n",
       "      <th></th>\n",
       "      <th>date</th>\n",
       "      <th>YYYYMMDD</th>\n",
       "      <th>EC</th>\n",
       "      <th>FS</th>\n",
       "      <th>GP</th>\n",
       "      <th>KZN</th>\n",
       "      <th>LP</th>\n",
       "      <th>MP</th>\n",
       "      <th>NC</th>\n",
       "      <th>NW</th>\n",
       "      <th>WC</th>\n",
       "      <th>UNKNOWN</th>\n",
       "      <th>total</th>\n",
       "      <th>source</th>\n",
       "    </tr>\n",
       "  </thead>\n",
       "  <tbody>\n",
       "    <tr>\n",
       "      <th>124</th>\n",
       "      <td>2020-08-25</td>\n",
       "      <td>20200825</td>\n",
       "      <td>80614</td>\n",
       "      <td>21174</td>\n",
       "      <td>175407</td>\n",
       "      <td>93019</td>\n",
       "      <td>11488</td>\n",
       "      <td>21370</td>\n",
       "      <td>6381</td>\n",
       "      <td>17008</td>\n",
       "      <td>93920</td>\n",
       "      <td>0</td>\n",
       "      <td>520381</td>\n",
       "      <td>https://twitter.com/nicd_sa/status/12983516283...</td>\n",
       "    </tr>\n",
       "    <tr>\n",
       "      <th>125</th>\n",
       "      <td>2020-08-26</td>\n",
       "      <td>20200826</td>\n",
       "      <td>80614</td>\n",
       "      <td>22740</td>\n",
       "      <td>176513</td>\n",
       "      <td>93814</td>\n",
       "      <td>11580</td>\n",
       "      <td>21370</td>\n",
       "      <td>6409</td>\n",
       "      <td>17702</td>\n",
       "      <td>94500</td>\n",
       "      <td>0</td>\n",
       "      <td>525242</td>\n",
       "      <td>https://twitter.com/nicd_sa/status/12987029468...</td>\n",
       "    </tr>\n",
       "    <tr>\n",
       "      <th>126</th>\n",
       "      <td>2020-08-27</td>\n",
       "      <td>20200827</td>\n",
       "      <td>81373</td>\n",
       "      <td>22829</td>\n",
       "      <td>178479</td>\n",
       "      <td>94680</td>\n",
       "      <td>11639</td>\n",
       "      <td>21591</td>\n",
       "      <td>6640</td>\n",
       "      <td>17993</td>\n",
       "      <td>96114</td>\n",
       "      <td>0</td>\n",
       "      <td>531338</td>\n",
       "      <td>https://twitter.com/nicd_sa/status/12990610006...</td>\n",
       "    </tr>\n",
       "  </tbody>\n",
       "</table>\n",
       "</div>"
      ],
      "text/plain": [
       "          date  YYYYMMDD     EC     FS      GP    KZN     LP     MP    NC  \\\n",
       "124 2020-08-25  20200825  80614  21174  175407  93019  11488  21370  6381   \n",
       "125 2020-08-26  20200826  80614  22740  176513  93814  11580  21370  6409   \n",
       "126 2020-08-27  20200827  81373  22829  178479  94680  11639  21591  6640   \n",
       "\n",
       "        NW     WC  UNKNOWN   total  \\\n",
       "124  17008  93920        0  520381   \n",
       "125  17702  94500        0  525242   \n",
       "126  17993  96114        0  531338   \n",
       "\n",
       "                                                source  \n",
       "124  https://twitter.com/nicd_sa/status/12983516283...  \n",
       "125  https://twitter.com/nicd_sa/status/12987029468...  \n",
       "126  https://twitter.com/nicd_sa/status/12990610006...  "
      ]
     },
     "execution_count": 20,
     "metadata": {},
     "output_type": "execute_result"
    }
   ],
   "source": [
    "recoveries['date'] = pd.to_datetime(recoveries['date'], format='%d-%m-%Y')\n",
    "recoveries.tail(3)"
   ]
  },
  {
   "cell_type": "code",
   "execution_count": 7,
   "metadata": {},
   "outputs": [
    {
     "data": {
      "text/html": [
       "<div>\n",
       "<style scoped>\n",
       "    .dataframe tbody tr th:only-of-type {\n",
       "        vertical-align: middle;\n",
       "    }\n",
       "\n",
       "    .dataframe tbody tr th {\n",
       "        vertical-align: top;\n",
       "    }\n",
       "\n",
       "    .dataframe thead th {\n",
       "        text-align: right;\n",
       "    }\n",
       "</style>\n",
       "<table border=\"1\" class=\"dataframe\">\n",
       "  <thead>\n",
       "    <tr style=\"text-align: right;\">\n",
       "      <th></th>\n",
       "      <th>date</th>\n",
       "      <th>YYYYMMDD</th>\n",
       "      <th>EC</th>\n",
       "      <th>FS</th>\n",
       "      <th>GP</th>\n",
       "      <th>KZN</th>\n",
       "      <th>LP</th>\n",
       "      <th>MP</th>\n",
       "      <th>NC</th>\n",
       "      <th>NW</th>\n",
       "      <th>WC</th>\n",
       "      <th>UNKNOWN</th>\n",
       "      <th>total</th>\n",
       "      <th>source</th>\n",
       "    </tr>\n",
       "  </thead>\n",
       "  <tbody>\n",
       "    <tr>\n",
       "      <th>147</th>\n",
       "      <td>2020-08-25</td>\n",
       "      <td>20200825</td>\n",
       "      <td>2816</td>\n",
       "      <td>567</td>\n",
       "      <td>3334</td>\n",
       "      <td>1997</td>\n",
       "      <td>179</td>\n",
       "      <td>312</td>\n",
       "      <td>116</td>\n",
       "      <td>224</td>\n",
       "      <td>3763</td>\n",
       "      <td>0</td>\n",
       "      <td>13308</td>\n",
       "      <td>https://twitter.com/nicd_sa/status/12983516283...</td>\n",
       "    </tr>\n",
       "    <tr>\n",
       "      <th>148</th>\n",
       "      <td>2020-08-26</td>\n",
       "      <td>20200826</td>\n",
       "      <td>2828</td>\n",
       "      <td>567</td>\n",
       "      <td>3395</td>\n",
       "      <td>2054</td>\n",
       "      <td>179</td>\n",
       "      <td>312</td>\n",
       "      <td>120</td>\n",
       "      <td>224</td>\n",
       "      <td>3823</td>\n",
       "      <td>0</td>\n",
       "      <td>13502</td>\n",
       "      <td>https://twitter.com/nicd_sa/status/12987029468...</td>\n",
       "    </tr>\n",
       "    <tr>\n",
       "      <th>149</th>\n",
       "      <td>2020-08-27</td>\n",
       "      <td>20200827</td>\n",
       "      <td>2853</td>\n",
       "      <td>567</td>\n",
       "      <td>3428</td>\n",
       "      <td>2102</td>\n",
       "      <td>179</td>\n",
       "      <td>312</td>\n",
       "      <td>120</td>\n",
       "      <td>224</td>\n",
       "      <td>3843</td>\n",
       "      <td>0</td>\n",
       "      <td>13628</td>\n",
       "      <td>https://twitter.com/nicd_sa/status/12990610006...</td>\n",
       "    </tr>\n",
       "  </tbody>\n",
       "</table>\n",
       "</div>"
      ],
      "text/plain": [
       "          date  YYYYMMDD    EC   FS    GP   KZN   LP   MP   NC   NW    WC  \\\n",
       "147 2020-08-25  20200825  2816  567  3334  1997  179  312  116  224  3763   \n",
       "148 2020-08-26  20200826  2828  567  3395  2054  179  312  120  224  3823   \n",
       "149 2020-08-27  20200827  2853  567  3428  2102  179  312  120  224  3843   \n",
       "\n",
       "     UNKNOWN  total                                             source  \n",
       "147        0  13308  https://twitter.com/nicd_sa/status/12983516283...  \n",
       "148        0  13502  https://twitter.com/nicd_sa/status/12987029468...  \n",
       "149        0  13628  https://twitter.com/nicd_sa/status/12990610006...  "
      ]
     },
     "execution_count": 7,
     "metadata": {},
     "output_type": "execute_result"
    }
   ],
   "source": [
    "deaths['date'] = pd.to_datetime(deaths['date'], format='%d-%m-%Y')\n",
    "deaths.tail(3)"
   ]
  },
  {
   "cell_type": "markdown",
   "metadata": {},
   "source": [
    "Create a new dataframe with the total number of confirmed positive cases, recoveries and deaths."
   ]
  },
  {
   "cell_type": "code",
   "execution_count": 8,
   "metadata": {},
   "outputs": [],
   "source": [
    "# combine the number of cases into a new dataframe\n",
    "total_cases = pd.concat([confirmed['date'], confirmed['total'],\n",
    "                         recoveries['total'], deaths['total']], axis=1)"
   ]
  },
  {
   "cell_type": "code",
   "execution_count": 9,
   "metadata": {},
   "outputs": [],
   "source": [
    "total_cases['confirmed'] = confirmed['total']\n",
    "total_cases['recoveries'] = recoveries['total']\n",
    "total_cases['deaths'] = deaths['total']\n",
    "\n",
    "# convert date column from string to datetime\n",
    "total_cases['date'] = pd.to_datetime(total_cases['date'], format='%d-%m-%Y')"
   ]
  },
  {
   "cell_type": "code",
   "execution_count": 10,
   "metadata": {},
   "outputs": [],
   "source": [
    "# drop the repeated columns\n",
    "total_cases = total_cases.drop(['total', 'total', 'total'], axis=1)"
   ]
  },
  {
   "cell_type": "code",
   "execution_count": 11,
   "metadata": {},
   "outputs": [
    {
     "name": "stdout",
     "output_type": "stream",
     "text": [
      "<class 'pandas.core.frame.DataFrame'>\n",
      "RangeIndex: 174 entries, 0 to 173\n",
      "Data columns (total 4 columns):\n",
      " #   Column      Non-Null Count  Dtype         \n",
      "---  ------      --------------  -----         \n",
      " 0   date        174 non-null    datetime64[ns]\n",
      " 1   confirmed   174 non-null    int64         \n",
      " 2   recoveries  127 non-null    float64       \n",
      " 3   deaths      150 non-null    float64       \n",
      "dtypes: datetime64[ns](1), float64(2), int64(1)\n",
      "memory usage: 5.6 KB\n"
     ]
    }
   ],
   "source": [
    "total_cases.info()"
   ]
  },
  {
   "cell_type": "code",
   "execution_count": 12,
   "metadata": {},
   "outputs": [],
   "source": [
    "# shift rows down so that dates correspond\n",
    "total_cases['recoveries'] = total_cases['recoveries'].shift(47)\n",
    "total_cases['deaths'] = total_cases['deaths'].shift(24)"
   ]
  },
  {
   "cell_type": "code",
   "execution_count": 138,
   "metadata": {},
   "outputs": [],
   "source": [
    "total_cases['recoveries'] = total_cases['recoveries'].fillna(0)\n",
    "total_cases['deaths'] = total_cases['deaths'].fillna(0)"
   ]
  },
  {
   "cell_type": "code",
   "execution_count": 139,
   "metadata": {},
   "outputs": [
    {
     "data": {
      "text/html": [
       "<div>\n",
       "<style scoped>\n",
       "    .dataframe tbody tr th:only-of-type {\n",
       "        vertical-align: middle;\n",
       "    }\n",
       "\n",
       "    .dataframe tbody tr th {\n",
       "        vertical-align: top;\n",
       "    }\n",
       "\n",
       "    .dataframe thead th {\n",
       "        text-align: right;\n",
       "    }\n",
       "</style>\n",
       "<table border=\"1\" class=\"dataframe\">\n",
       "  <thead>\n",
       "    <tr style=\"text-align: right;\">\n",
       "      <th></th>\n",
       "      <th>date</th>\n",
       "      <th>confirmed</th>\n",
       "      <th>recoveries</th>\n",
       "      <th>deaths</th>\n",
       "    </tr>\n",
       "  </thead>\n",
       "  <tbody>\n",
       "    <tr>\n",
       "      <th>0</th>\n",
       "      <td>2020-03-05</td>\n",
       "      <td>1</td>\n",
       "      <td>0.0</td>\n",
       "      <td>0.0</td>\n",
       "    </tr>\n",
       "    <tr>\n",
       "      <th>1</th>\n",
       "      <td>2020-03-07</td>\n",
       "      <td>2</td>\n",
       "      <td>0.0</td>\n",
       "      <td>0.0</td>\n",
       "    </tr>\n",
       "    <tr>\n",
       "      <th>2</th>\n",
       "      <td>2020-03-08</td>\n",
       "      <td>3</td>\n",
       "      <td>0.0</td>\n",
       "      <td>0.0</td>\n",
       "    </tr>\n",
       "    <tr>\n",
       "      <th>3</th>\n",
       "      <td>2020-03-09</td>\n",
       "      <td>7</td>\n",
       "      <td>0.0</td>\n",
       "      <td>0.0</td>\n",
       "    </tr>\n",
       "    <tr>\n",
       "      <th>4</th>\n",
       "      <td>2020-03-11</td>\n",
       "      <td>13</td>\n",
       "      <td>0.0</td>\n",
       "      <td>0.0</td>\n",
       "    </tr>\n",
       "  </tbody>\n",
       "</table>\n",
       "</div>"
      ],
      "text/plain": [
       "        date  confirmed  recoveries  deaths\n",
       "0 2020-03-05          1         0.0     0.0\n",
       "1 2020-03-07          2         0.0     0.0\n",
       "2 2020-03-08          3         0.0     0.0\n",
       "3 2020-03-09          7         0.0     0.0\n",
       "4 2020-03-11         13         0.0     0.0"
      ]
     },
     "execution_count": 139,
     "metadata": {},
     "output_type": "execute_result"
    }
   ],
   "source": [
    "total_cases.head()"
   ]
  },
  {
   "cell_type": "markdown",
   "metadata": {},
   "source": [
    "Recoveries were recorded only 47 days after the first positive case was confirmed, and deaths were first reported after 24 days. To date there are 525 242 recoveries and 13 502 deaths. "
   ]
  },
  {
   "cell_type": "markdown",
   "metadata": {},
   "source": [
    "## Confirmed cases, recoveries and deaths"
   ]
  },
  {
   "cell_type": "code",
   "execution_count": 137,
   "metadata": {
    "scrolled": true
   },
   "outputs": [
    {
     "data": {
      "image/png": "[encoded data removed]",
      "text/plain": [
       "<Figure size 792x576 with 1 Axes>"
      ]
     },
     "metadata": {},
     "output_type": "display_data"
    },
    {
     "data": {
      "text/plain": [
       "<ggplot: (-9223371877547561177)>"
      ]
     },
     "execution_count": 137,
     "metadata": {},
     "output_type": "execute_result"
    }
   ],
   "source": [
    "# plot the number of positive cases and recoveries\n",
    "ggplot(total_cases, aes(x='date')) + \\\n",
    "    geom_line(aes(y='confirmed'), color='black') + \\\n",
    "    geom_line(aes(y='recoveries'), color='red') + \\\n",
    "    geom_line(aes(y='deaths'), color='green') + \\\n",
    "    xlab('Time') + \\\n",
    "    ylab('Number of cases') + \\\n",
    "    theme_bw() + \\\n",
    "    theme()\n",
    "# this graph still needs a legend"
   ]
  },
  {
   "cell_type": "markdown",
   "metadata": {},
   "source": [
    "## Cases by province"
   ]
  },
  {
   "cell_type": "code",
   "execution_count": 29,
   "metadata": {},
   "outputs": [
    {
     "data": {
      "image/png": "[encoded data removed]",
      "text/plain": [
       "<Figure size 792x576 with 1 Axes>"
      ]
     },
     "metadata": {},
     "output_type": "display_data"
    },
    {
     "data": {
      "text/plain": [
       "<ggplot: (127510436879)>"
      ]
     },
     "execution_count": 29,
     "metadata": {},
     "output_type": "execute_result"
    }
   ],
   "source": [
    "ggplot(confirmed, aes(x='date')) + \\\n",
    "    geom_line(aes(y='EC'), color='black') + \\\n",
    "    geom_line(aes(y='WC'), color='green') + \\\n",
    "    geom_line(aes(y='GP'), color='red') + \\\n",
    "    xlab('Time') + \\\n",
    "    ylab('Number of cases per province') + \\\n",
    "    theme_bw() + \\\n",
    "    theme()"
   ]
  },
  {
   "cell_type": "markdown",
   "metadata": {},
   "source": [
    "# SIR Modelling"
   ]
  },
  {
   "cell_type": "markdown",
   "metadata": {},
   "source": [
    "In order to model how the virus will spread we need to use the SIR model which requires the number of susceptible individuals, those who have been infected and those who have recovered. Two epidemiological quantities are also needed: the infection rate and the recovery rate. The reproductive rate of the virus when the first case was reported was 2.07. At the moment the model does not account for lockdown and travel restrictions.\n",
    "The code for this model was obtained from scipython.com."
   ]
  },
  {
   "cell_type": "code",
   "execution_count": 140,
   "metadata": {},
   "outputs": [],
   "source": [
    "# total population\n",
    "N = 59431006\n",
    "\n",
    "# recoveries & active infections\n",
    "I0 = 1\n",
    "R0 = 0\n",
    "\n",
    "# susceptible\n",
    "S0 = N - I0 - R0\n",
    "\n",
    "# infection rate\n",
    "B = 2.07\n",
    "\n",
    "# recovery rate\n",
    "G = 1/14\n",
    "\n",
    "# set the number of days to 250\n",
    "t = range(0, 250)"
   ]
  },
  {
   "cell_type": "code",
   "execution_count": 141,
   "metadata": {},
   "outputs": [],
   "source": [
    "# SIR model differential equations\n",
    "def derivative(y, t, N, B, G):\n",
    "    S, I, R = y\n",
    "    dSdt = -B * S * I / N\n",
    "    dIdt = B * S * I / N - G * I\n",
    "    dRdt = G * I\n",
    "    return dSdt, dIdt, dRdt"
   ]
  },
  {
   "cell_type": "code",
   "execution_count": 142,
   "metadata": {},
   "outputs": [],
   "source": [
    "# initial conditions\n",
    "y0 = S0, I0, R0\n",
    "ret = odeint(derivative, y0, t, args=(N, B, G))\n",
    "S, I, R = ret.T\n",
    "\n",
    "# create a dataframe for S, I and R\n",
    "infection_model = pd.DataFrame(\n",
    "    {'susceptible': S,\n",
    "     'infected': I,\n",
    "     'recovered': R,\n",
    "     'days': t})"
   ]
  },
  {
   "cell_type": "code",
   "execution_count": 133,
   "metadata": {},
   "outputs": [
    {
     "data": {
      "text/html": [
       "<div>\n",
       "<style scoped>\n",
       "    .dataframe tbody tr th:only-of-type {\n",
       "        vertical-align: middle;\n",
       "    }\n",
       "\n",
       "    .dataframe tbody tr th {\n",
       "        vertical-align: top;\n",
       "    }\n",
       "\n",
       "    .dataframe thead th {\n",
       "        text-align: right;\n",
       "    }\n",
       "</style>\n",
       "<table border=\"1\" class=\"dataframe\">\n",
       "  <thead>\n",
       "    <tr style=\"text-align: right;\">\n",
       "      <th></th>\n",
       "      <th>susceptible</th>\n",
       "      <th>infected</th>\n",
       "      <th>recovered</th>\n",
       "      <th>days</th>\n",
       "    </tr>\n",
       "  </thead>\n",
       "  <tbody>\n",
       "    <tr>\n",
       "      <th>245</th>\n",
       "      <td>0.000015</td>\n",
       "      <td>2.835992</td>\n",
       "      <td>5.943100e+07</td>\n",
       "      <td>245</td>\n",
       "    </tr>\n",
       "    <tr>\n",
       "      <th>246</th>\n",
       "      <td>0.000015</td>\n",
       "      <td>2.640486</td>\n",
       "      <td>5.943100e+07</td>\n",
       "      <td>246</td>\n",
       "    </tr>\n",
       "    <tr>\n",
       "      <th>247</th>\n",
       "      <td>0.000015</td>\n",
       "      <td>2.458459</td>\n",
       "      <td>5.943100e+07</td>\n",
       "      <td>247</td>\n",
       "    </tr>\n",
       "    <tr>\n",
       "      <th>248</th>\n",
       "      <td>0.000015</td>\n",
       "      <td>2.288979</td>\n",
       "      <td>5.943100e+07</td>\n",
       "      <td>248</td>\n",
       "    </tr>\n",
       "    <tr>\n",
       "      <th>249</th>\n",
       "      <td>0.000015</td>\n",
       "      <td>2.131183</td>\n",
       "      <td>5.943100e+07</td>\n",
       "      <td>249</td>\n",
       "    </tr>\n",
       "  </tbody>\n",
       "</table>\n",
       "</div>"
      ],
      "text/plain": [
       "     susceptible  infected     recovered  days\n",
       "245     0.000015  2.835992  5.943100e+07   245\n",
       "246     0.000015  2.640486  5.943100e+07   246\n",
       "247     0.000015  2.458459  5.943100e+07   247\n",
       "248     0.000015  2.288979  5.943100e+07   248\n",
       "249     0.000015  2.131183  5.943100e+07   249"
      ]
     },
     "execution_count": 133,
     "metadata": {},
     "output_type": "execute_result"
    }
   ],
   "source": [
    "infection_model.tail()"
   ]
  },
  {
   "cell_type": "code",
   "execution_count": 143,
   "metadata": {},
   "outputs": [
    {
     "data": {
      "image/png": "[encoded data removed]",
      "text/plain": [
       "<Figure size 792x576 with 1 Axes>"
      ]
     },
     "metadata": {},
     "output_type": "display_data"
    },
    {
     "data": {
      "text/plain": [
       "<ggplot: (-9223371877550148629)>"
      ]
     },
     "execution_count": 143,
     "metadata": {},
     "output_type": "execute_result"
    }
   ],
   "source": [
    "ggplot(infection_model, aes(x='days')) + \\\n",
    "    geom_line(aes(y='recovered'), color='red') + \\\n",
    "    geom_line(aes(y='infected'), color='black') + \\\n",
    "    xlab('Time (days)') + \\\n",
    "    ylab('Number of cases') + \\\n",
    "    theme_bw() + \\\n",
    "    theme()"
   ]
  },
  {
   "cell_type": "code",
   "execution_count": null,
   "metadata": {},
   "outputs": [],
   "source": []
  }
 ],
 "metadata": {
  "kernelspec": {
   "display_name": "Python 3",
   "language": "python",
   "name": "python3"
  },
  "language_info": {
   "codemirror_mode": {
    "name": "ipython",
    "version": 3
   },
   "file_extension": ".py",
   "mimetype": "text/x-python",
   "name": "python",
   "nbconvert_exporter": "python",
   "pygments_lexer": "ipython3",
   "version": "3.7.3"
  },
  "toc": {
   "base_numbering": 1,
   "nav_menu": {},
   "number_sections": true,
   "sideBar": true,
   "skip_h1_title": false,
   "title_cell": "Table of Contents",
   "title_sidebar": "Contents",
   "toc_cell": false,
   "toc_position": {},
   "toc_section_display": true,
   "toc_window_display": false
  }
 },
 "nbformat": 4,
 "nbformat_minor": 2
}
