{
 "cells": [
  {
   "cell_type": "markdown",
   "metadata": {},
   "source": [
    "# COVID-19 ANALYSIS"
   ]
  },
  {
   "cell_type": "markdown",
   "metadata": {},
   "source": [
    "This is an analysis of the COVID-19 pandemic in South Africa from March to August 2020"
   ]
  },
  {
   "cell_type": "markdown",
   "metadata": {},
   "source": [
    "# Load libraries"
   ]
  },
  {
   "cell_type": "code",
   "execution_count": 1,
   "metadata": {},
   "outputs": [
    {
     "name": "stderr",
     "output_type": "stream",
     "text": [
      "C:\\Users\\zintl\\Anaconda3\\lib\\site-packages\\numpy\\_distributor_init.py:32: UserWarning: loaded more than 1 DLL from .libs:\n",
      "C:\\Users\\zintl\\Anaconda3\\lib\\site-packages\\numpy\\.libs\\libopenblas.NOIJJG62EMASZI6NYURL6JBKM4EVBGM7.gfortran-win_amd64.dll\n",
      "C:\\Users\\zintl\\Anaconda3\\lib\\site-packages\\numpy\\.libs\\libopenblas.PYQHXLVVQ7VESDPUVUADXEVJOBGHJPAY.gfortran-win_amd64.dll\n",
      "  stacklevel=1)\n",
      "C:\\Users\\zintl\\Anaconda3\\lib\\site-packages\\statsmodels\\tools\\_testing.py:19: FutureWarning: pandas.util.testing is deprecated. Use the functions in the public API at pandas.testing instead.\n",
      "  import pandas.util.testing as tm\n",
      "C:\\Users\\zintl\\Anaconda3\\lib\\site-packages\\statsmodels\\compat\\pandas.py:23: FutureWarning: The Panel class is removed from pandas. Accessing it from the top-level namespace will also be removed in the next version\n",
      "  data_klasses = (pandas.Series, pandas.DataFrame, pandas.Panel)\n"
     ]
    }
   ],
   "source": [
    "from scipy.integrate import odeint\n",
    "from datetime import datetime, date\n",
    "\n",
    "import numpy as np\n",
    "import pandas as pd\n",
    "import seaborn as sns\n",
    "from ggplot import *\n",
    "import matplotlib.pyplot as plt\n",
    "%matplotlib inline"
   ]
  },
  {
   "cell_type": "code",
   "execution_count": 2,
   "metadata": {},
   "outputs": [],
   "source": [
    "#national_report = pd.read_csv('../data/nicd_daily_national_report.csv')\n",
    "confirmed = pd.read_csv(\n",
    "    'https://raw.githubusercontent.com/dsfsi/covid19za/master/data/covid19za_provincial_cumulative_timeline_confirmed.csv')\n",
    "recoveries = pd.read_csv(\n",
    "    'https://raw.githubusercontent.com/dsfsi/covid19za/master/data/covid19za_provincial_cumulative_timeline_recoveries.csv')\n",
    "deaths = pd.read_csv(\n",
    "    'https://raw.githubusercontent.com/dsfsi/covid19za/master/data/covid19za_provincial_cumulative_timeline_deaths.csv')\n",
    "transmission = pd.read_csv(\n",
    "    'https://raw.githubusercontent.com/dsfsi/covid19za/master/data/covid19za_timeline_transmission_type.csv')\n",
    "hospitals = pd.read_csv(\n",
    "    'https://raw.githubusercontent.com/dsfsi/covid19za/master/data/health_system_za_hospitals_v1.csv')"
   ]
  },
  {
   "cell_type": "code",
   "execution_count": 3,
   "metadata": {},
   "outputs": [
    {
     "data": {
      "text/html": [
       "<div>\n",
       "<style scoped>\n",
       "    .dataframe tbody tr th:only-of-type {\n",
       "        vertical-align: middle;\n",
       "    }\n",
       "\n",
       "    .dataframe tbody tr th {\n",
       "        vertical-align: top;\n",
       "    }\n",
       "\n",
       "    .dataframe thead th {\n",
       "        text-align: right;\n",
       "    }\n",
       "</style>\n",
       "<table border=\"1\" class=\"dataframe\">\n",
       "  <thead>\n",
       "    <tr style=\"text-align: right;\">\n",
       "      <th></th>\n",
       "      <th>date</th>\n",
       "      <th>YYYYMMDD</th>\n",
       "      <th>EC</th>\n",
       "      <th>FS</th>\n",
       "      <th>GP</th>\n",
       "      <th>KZN</th>\n",
       "      <th>LP</th>\n",
       "      <th>MP</th>\n",
       "      <th>NC</th>\n",
       "      <th>NW</th>\n",
       "      <th>WC</th>\n",
       "      <th>UNKNOWN</th>\n",
       "      <th>total</th>\n",
       "      <th>source</th>\n",
       "    </tr>\n",
       "  </thead>\n",
       "  <tbody>\n",
       "    <tr>\n",
       "      <th>172</th>\n",
       "      <td>2020-08-26</td>\n",
       "      <td>20200826</td>\n",
       "      <td>85472.0</td>\n",
       "      <td>35980.0</td>\n",
       "      <td>207610.0</td>\n",
       "      <td>111096.0</td>\n",
       "      <td>12795.0</td>\n",
       "      <td>23555.0</td>\n",
       "      <td>9500.0</td>\n",
       "      <td>24646.0</td>\n",
       "      <td>104997.0</td>\n",
       "      <td>50.0</td>\n",
       "      <td>615701</td>\n",
       "      <td>https://twitter.com/nicd_sa/status/12987029468...</td>\n",
       "    </tr>\n",
       "    <tr>\n",
       "      <th>173</th>\n",
       "      <td>2020-08-27</td>\n",
       "      <td>20200827</td>\n",
       "      <td>85625.0</td>\n",
       "      <td>36419.0</td>\n",
       "      <td>208156.0</td>\n",
       "      <td>111585.0</td>\n",
       "      <td>12867.0</td>\n",
       "      <td>23677.0</td>\n",
       "      <td>9829.0</td>\n",
       "      <td>24805.0</td>\n",
       "      <td>105273.0</td>\n",
       "      <td>50.0</td>\n",
       "      <td>618286</td>\n",
       "      <td>https://twitter.com/nicd_sa/status/12990610006...</td>\n",
       "    </tr>\n",
       "    <tr>\n",
       "      <th>174</th>\n",
       "      <td>2020-08-28</td>\n",
       "      <td>20200828</td>\n",
       "      <td>85701.0</td>\n",
       "      <td>36742.0</td>\n",
       "      <td>208579.0</td>\n",
       "      <td>111863.0</td>\n",
       "      <td>12960.0</td>\n",
       "      <td>23765.0</td>\n",
       "      <td>10043.0</td>\n",
       "      <td>24922.0</td>\n",
       "      <td>105507.0</td>\n",
       "      <td>50.0</td>\n",
       "      <td>620123</td>\n",
       "      <td>https://twitter.com/nicd_sa/status/12994458373...</td>\n",
       "    </tr>\n",
       "  </tbody>\n",
       "</table>\n",
       "</div>"
      ],
      "text/plain": [
       "          date  YYYYMMDD       EC       FS        GP       KZN       LP  \\\n",
       "172 2020-08-26  20200826  85472.0  35980.0  207610.0  111096.0  12795.0   \n",
       "173 2020-08-27  20200827  85625.0  36419.0  208156.0  111585.0  12867.0   \n",
       "174 2020-08-28  20200828  85701.0  36742.0  208579.0  111863.0  12960.0   \n",
       "\n",
       "          MP       NC       NW        WC  UNKNOWN   total  \\\n",
       "172  23555.0   9500.0  24646.0  104997.0     50.0  615701   \n",
       "173  23677.0   9829.0  24805.0  105273.0     50.0  618286   \n",
       "174  23765.0  10043.0  24922.0  105507.0     50.0  620123   \n",
       "\n",
       "                                                source  \n",
       "172  https://twitter.com/nicd_sa/status/12987029468...  \n",
       "173  https://twitter.com/nicd_sa/status/12990610006...  \n",
       "174  https://twitter.com/nicd_sa/status/12994458373...  "
      ]
     },
     "execution_count": 3,
     "metadata": {},
     "output_type": "execute_result"
    }
   ],
   "source": [
    "confirmed['date'] = pd.to_datetime(confirmed['date'], format='%d-%m-%Y')\n",
    "confirmed.tail(3)"
   ]
  },
  {
   "cell_type": "code",
   "execution_count": 4,
   "metadata": {},
   "outputs": [
    {
     "data": {
      "text/html": [
       "<div>\n",
       "<style scoped>\n",
       "    .dataframe tbody tr th:only-of-type {\n",
       "        vertical-align: middle;\n",
       "    }\n",
       "\n",
       "    .dataframe tbody tr th {\n",
       "        vertical-align: top;\n",
       "    }\n",
       "\n",
       "    .dataframe thead th {\n",
       "        text-align: right;\n",
       "    }\n",
       "</style>\n",
       "<table border=\"1\" class=\"dataframe\">\n",
       "  <thead>\n",
       "    <tr style=\"text-align: right;\">\n",
       "      <th></th>\n",
       "      <th>date</th>\n",
       "      <th>YYYYMMDD</th>\n",
       "      <th>EC</th>\n",
       "      <th>FS</th>\n",
       "      <th>GP</th>\n",
       "      <th>KZN</th>\n",
       "      <th>LP</th>\n",
       "      <th>MP</th>\n",
       "      <th>NC</th>\n",
       "      <th>NW</th>\n",
       "      <th>WC</th>\n",
       "      <th>UNKNOWN</th>\n",
       "      <th>total</th>\n",
       "      <th>source</th>\n",
       "    </tr>\n",
       "  </thead>\n",
       "  <tbody>\n",
       "    <tr>\n",
       "      <th>125</th>\n",
       "      <td>2020-08-26</td>\n",
       "      <td>20200826</td>\n",
       "      <td>80614</td>\n",
       "      <td>22740</td>\n",
       "      <td>176513</td>\n",
       "      <td>93814</td>\n",
       "      <td>11580</td>\n",
       "      <td>21370</td>\n",
       "      <td>6409</td>\n",
       "      <td>17702</td>\n",
       "      <td>94500</td>\n",
       "      <td>0</td>\n",
       "      <td>525242</td>\n",
       "      <td>https://twitter.com/nicd_sa/status/12987029468...</td>\n",
       "    </tr>\n",
       "    <tr>\n",
       "      <th>126</th>\n",
       "      <td>2020-08-27</td>\n",
       "      <td>20200827</td>\n",
       "      <td>81373</td>\n",
       "      <td>22829</td>\n",
       "      <td>178479</td>\n",
       "      <td>94680</td>\n",
       "      <td>11639</td>\n",
       "      <td>21591</td>\n",
       "      <td>6640</td>\n",
       "      <td>17993</td>\n",
       "      <td>96114</td>\n",
       "      <td>0</td>\n",
       "      <td>531338</td>\n",
       "      <td>https://twitter.com/nicd_sa/status/12990610006...</td>\n",
       "    </tr>\n",
       "    <tr>\n",
       "      <th>127</th>\n",
       "      <td>2020-08-28</td>\n",
       "      <td>20200828</td>\n",
       "      <td>81373</td>\n",
       "      <td>23031</td>\n",
       "      <td>179631</td>\n",
       "      <td>95011</td>\n",
       "      <td>11832</td>\n",
       "      <td>21994</td>\n",
       "      <td>6784</td>\n",
       "      <td>18165</td>\n",
       "      <td>96114</td>\n",
       "      <td>0</td>\n",
       "      <td>533935</td>\n",
       "      <td>https://twitter.com/nicd_sa/status/12994458373...</td>\n",
       "    </tr>\n",
       "  </tbody>\n",
       "</table>\n",
       "</div>"
      ],
      "text/plain": [
       "          date  YYYYMMDD     EC     FS      GP    KZN     LP     MP    NC  \\\n",
       "125 2020-08-26  20200826  80614  22740  176513  93814  11580  21370  6409   \n",
       "126 2020-08-27  20200827  81373  22829  178479  94680  11639  21591  6640   \n",
       "127 2020-08-28  20200828  81373  23031  179631  95011  11832  21994  6784   \n",
       "\n",
       "        NW     WC  UNKNOWN   total  \\\n",
       "125  17702  94500        0  525242   \n",
       "126  17993  96114        0  531338   \n",
       "127  18165  96114        0  533935   \n",
       "\n",
       "                                                source  \n",
       "125  https://twitter.com/nicd_sa/status/12987029468...  \n",
       "126  https://twitter.com/nicd_sa/status/12990610006...  \n",
       "127  https://twitter.com/nicd_sa/status/12994458373...  "
      ]
     },
     "execution_count": 4,
     "metadata": {},
     "output_type": "execute_result"
    }
   ],
   "source": [
    "recoveries['date'] = pd.to_datetime(recoveries['date'], format='%d-%m-%Y')\n",
    "recoveries.tail(3)"
   ]
  },
  {
   "cell_type": "code",
   "execution_count": 5,
   "metadata": {},
   "outputs": [
    {
     "data": {
      "text/html": [
       "<div>\n",
       "<style scoped>\n",
       "    .dataframe tbody tr th:only-of-type {\n",
       "        vertical-align: middle;\n",
       "    }\n",
       "\n",
       "    .dataframe tbody tr th {\n",
       "        vertical-align: top;\n",
       "    }\n",
       "\n",
       "    .dataframe thead th {\n",
       "        text-align: right;\n",
       "    }\n",
       "</style>\n",
       "<table border=\"1\" class=\"dataframe\">\n",
       "  <thead>\n",
       "    <tr style=\"text-align: right;\">\n",
       "      <th></th>\n",
       "      <th>date</th>\n",
       "      <th>YYYYMMDD</th>\n",
       "      <th>EC</th>\n",
       "      <th>FS</th>\n",
       "      <th>GP</th>\n",
       "      <th>KZN</th>\n",
       "      <th>LP</th>\n",
       "      <th>MP</th>\n",
       "      <th>NC</th>\n",
       "      <th>NW</th>\n",
       "      <th>WC</th>\n",
       "      <th>UNKNOWN</th>\n",
       "      <th>total</th>\n",
       "      <th>source</th>\n",
       "    </tr>\n",
       "  </thead>\n",
       "  <tbody>\n",
       "    <tr>\n",
       "      <th>148</th>\n",
       "      <td>2020-08-26</td>\n",
       "      <td>20200826</td>\n",
       "      <td>2828</td>\n",
       "      <td>567</td>\n",
       "      <td>3395</td>\n",
       "      <td>2054</td>\n",
       "      <td>179</td>\n",
       "      <td>312</td>\n",
       "      <td>120</td>\n",
       "      <td>224</td>\n",
       "      <td>3823</td>\n",
       "      <td>0</td>\n",
       "      <td>13502</td>\n",
       "      <td>https://twitter.com/nicd_sa/status/12987029468...</td>\n",
       "    </tr>\n",
       "    <tr>\n",
       "      <th>149</th>\n",
       "      <td>2020-08-27</td>\n",
       "      <td>20200827</td>\n",
       "      <td>2853</td>\n",
       "      <td>567</td>\n",
       "      <td>3428</td>\n",
       "      <td>2102</td>\n",
       "      <td>179</td>\n",
       "      <td>312</td>\n",
       "      <td>120</td>\n",
       "      <td>224</td>\n",
       "      <td>3843</td>\n",
       "      <td>0</td>\n",
       "      <td>13628</td>\n",
       "      <td>https://twitter.com/nicd_sa/status/12990610006...</td>\n",
       "    </tr>\n",
       "    <tr>\n",
       "      <th>150</th>\n",
       "      <td>2020-08-28</td>\n",
       "      <td>20200828</td>\n",
       "      <td>2863</td>\n",
       "      <td>567</td>\n",
       "      <td>3475</td>\n",
       "      <td>2116</td>\n",
       "      <td>179</td>\n",
       "      <td>330</td>\n",
       "      <td>120</td>\n",
       "      <td>240</td>\n",
       "      <td>3853</td>\n",
       "      <td>0</td>\n",
       "      <td>13743</td>\n",
       "      <td>https://twitter.com/nicd_sa/status/12994458373...</td>\n",
       "    </tr>\n",
       "  </tbody>\n",
       "</table>\n",
       "</div>"
      ],
      "text/plain": [
       "          date  YYYYMMDD    EC   FS    GP   KZN   LP   MP   NC   NW    WC  \\\n",
       "148 2020-08-26  20200826  2828  567  3395  2054  179  312  120  224  3823   \n",
       "149 2020-08-27  20200827  2853  567  3428  2102  179  312  120  224  3843   \n",
       "150 2020-08-28  20200828  2863  567  3475  2116  179  330  120  240  3853   \n",
       "\n",
       "     UNKNOWN  total                                             source  \n",
       "148        0  13502  https://twitter.com/nicd_sa/status/12987029468...  \n",
       "149        0  13628  https://twitter.com/nicd_sa/status/12990610006...  \n",
       "150        0  13743  https://twitter.com/nicd_sa/status/12994458373...  "
      ]
     },
     "execution_count": 5,
     "metadata": {},
     "output_type": "execute_result"
    }
   ],
   "source": [
    "deaths['date'] = pd.to_datetime(deaths['date'], format='%d-%m-%Y')\n",
    "deaths.tail(3)"
   ]
  },
  {
   "cell_type": "code",
   "execution_count": null,
   "metadata": {},
   "outputs": [],
   "source": [
    "transmission = transmission.drop(['Unnamed: 4'], axis = 1)\n",
    "transmission.head(2)"
   ]
  },
  {
   "cell_type": "markdown",
   "metadata": {},
   "source": [
    "Create a new dataframe with the total number of confirmed positive cases, recoveries and deaths."
   ]
  },
  {
   "cell_type": "code",
   "execution_count": 88,
   "metadata": {},
   "outputs": [],
   "source": [
    "# combine the number of cases into a new dataframe\n",
    "total_cases = pd.concat([confirmed['date'], confirmed['total'],\n",
    "                         recoveries['total'], deaths['total']], axis=1)"
   ]
  },
  {
   "cell_type": "code",
   "execution_count": 89,
   "metadata": {},
   "outputs": [],
   "source": [
    "total_cases['confirmed'] = confirmed['total']\n",
    "total_cases['recoveries'] = recoveries['total']\n",
    "total_cases['deaths'] = deaths['total']\n",
    "\n",
    "# convert date column from string to datetime\n",
    "total_cases['date'] = pd.to_datetime(total_cases['date'], format='%d-%m-%Y')"
   ]
  },
  {
   "cell_type": "code",
   "execution_count": 90,
   "metadata": {},
   "outputs": [],
   "source": [
    "# drop the repeated columns\n",
    "total_cases = total_cases.drop(['total', 'total', 'total'], axis=1)"
   ]
  },
  {
   "cell_type": "code",
   "execution_count": 91,
   "metadata": {},
   "outputs": [
    {
     "name": "stdout",
     "output_type": "stream",
     "text": [
      "<class 'pandas.core.frame.DataFrame'>\n",
      "RangeIndex: 175 entries, 0 to 174\n",
      "Data columns (total 4 columns):\n",
      " #   Column      Non-Null Count  Dtype         \n",
      "---  ------      --------------  -----         \n",
      " 0   date        175 non-null    datetime64[ns]\n",
      " 1   confirmed   175 non-null    int64         \n",
      " 2   recoveries  128 non-null    float64       \n",
      " 3   deaths      151 non-null    float64       \n",
      "dtypes: datetime64[ns](1), float64(2), int64(1)\n",
      "memory usage: 5.6 KB\n"
     ]
    }
   ],
   "source": [
    "total_cases.info()"
   ]
  },
  {
   "cell_type": "code",
   "execution_count": 92,
   "metadata": {},
   "outputs": [],
   "source": [
    "# shift rows down so that dates correspond\n",
    "total_cases['recoveries'] = total_cases['recoveries'].shift(47)\n",
    "total_cases['deaths'] = total_cases['deaths'].shift(24)"
   ]
  },
  {
   "cell_type": "code",
   "execution_count": 93,
   "metadata": {},
   "outputs": [],
   "source": [
    "# fill NAs with zeros\n",
    "total_cases['recoveries'] = total_cases['recoveries'].fillna(0)\n",
    "total_cases['deaths'] = total_cases['deaths'].fillna(0)"
   ]
  },
  {
   "cell_type": "code",
   "execution_count": 94,
   "metadata": {},
   "outputs": [],
   "source": [
    "# calculate recovery and deaths rates\n",
    "total_cases['recov_rate'] = (total_cases['recoveries']/total_cases['confirmed'])*100\n",
    "total_cases['death_rate'] = (total_cases['deaths']/total_cases['confirmed'])*100"
   ]
  },
  {
   "cell_type": "code",
   "execution_count": 97,
   "metadata": {},
   "outputs": [],
   "source": [
    "# create a month column\n",
    "total_cases['month'] = total_cases['date'].dt.month\n",
    "\n",
    "# change month number to month name\n",
    "total_cases['month'] = total_cases['month'].replace(3, 'March')\n",
    "total_cases['month'] = total_cases['month'].replace(4, 'April')\n",
    "total_cases['month'] = total_cases['month'].replace(5, 'May')\n",
    "total_cases['month'] = total_cases['month'].replace(6, 'June')\n",
    "total_cases['month'] = total_cases['month'].replace(7, 'July')\n",
    "total_cases['month'] = total_cases['month'].replace(8, 'August')"
   ]
  },
  {
   "cell_type": "code",
   "execution_count": 98,
   "metadata": {},
   "outputs": [
    {
     "data": {
      "text/html": [
       "<div>\n",
       "<style scoped>\n",
       "    .dataframe tbody tr th:only-of-type {\n",
       "        vertical-align: middle;\n",
       "    }\n",
       "\n",
       "    .dataframe tbody tr th {\n",
       "        vertical-align: top;\n",
       "    }\n",
       "\n",
       "    .dataframe thead th {\n",
       "        text-align: right;\n",
       "    }\n",
       "</style>\n",
       "<table border=\"1\" class=\"dataframe\">\n",
       "  <thead>\n",
       "    <tr style=\"text-align: right;\">\n",
       "      <th></th>\n",
       "      <th>date</th>\n",
       "      <th>confirmed</th>\n",
       "      <th>recoveries</th>\n",
       "      <th>deaths</th>\n",
       "      <th>recov_rate</th>\n",
       "      <th>death_rate</th>\n",
       "      <th>month</th>\n",
       "    </tr>\n",
       "  </thead>\n",
       "  <tbody>\n",
       "    <tr>\n",
       "      <th>0</th>\n",
       "      <td>2020-03-05</td>\n",
       "      <td>1</td>\n",
       "      <td>0.0</td>\n",
       "      <td>0.0</td>\n",
       "      <td>0.0</td>\n",
       "      <td>0.0</td>\n",
       "      <td>March</td>\n",
       "    </tr>\n",
       "    <tr>\n",
       "      <th>1</th>\n",
       "      <td>2020-03-07</td>\n",
       "      <td>2</td>\n",
       "      <td>0.0</td>\n",
       "      <td>0.0</td>\n",
       "      <td>0.0</td>\n",
       "      <td>0.0</td>\n",
       "      <td>March</td>\n",
       "    </tr>\n",
       "    <tr>\n",
       "      <th>2</th>\n",
       "      <td>2020-03-08</td>\n",
       "      <td>3</td>\n",
       "      <td>0.0</td>\n",
       "      <td>0.0</td>\n",
       "      <td>0.0</td>\n",
       "      <td>0.0</td>\n",
       "      <td>March</td>\n",
       "    </tr>\n",
       "    <tr>\n",
       "      <th>3</th>\n",
       "      <td>2020-03-09</td>\n",
       "      <td>7</td>\n",
       "      <td>0.0</td>\n",
       "      <td>0.0</td>\n",
       "      <td>0.0</td>\n",
       "      <td>0.0</td>\n",
       "      <td>March</td>\n",
       "    </tr>\n",
       "    <tr>\n",
       "      <th>4</th>\n",
       "      <td>2020-03-11</td>\n",
       "      <td>13</td>\n",
       "      <td>0.0</td>\n",
       "      <td>0.0</td>\n",
       "      <td>0.0</td>\n",
       "      <td>0.0</td>\n",
       "      <td>March</td>\n",
       "    </tr>\n",
       "  </tbody>\n",
       "</table>\n",
       "</div>"
      ],
      "text/plain": [
       "        date  confirmed  recoveries  deaths  recov_rate  death_rate  month\n",
       "0 2020-03-05          1         0.0     0.0         0.0         0.0  March\n",
       "1 2020-03-07          2         0.0     0.0         0.0         0.0  March\n",
       "2 2020-03-08          3         0.0     0.0         0.0         0.0  March\n",
       "3 2020-03-09          7         0.0     0.0         0.0         0.0  March\n",
       "4 2020-03-11         13         0.0     0.0         0.0         0.0  March"
      ]
     },
     "execution_count": 98,
     "metadata": {},
     "output_type": "execute_result"
    }
   ],
   "source": [
    "total_cases.head()"
   ]
  },
  {
   "cell_type": "markdown",
   "metadata": {},
   "source": [
    "Recoveries were recorded only 47 days after the first positive case was confirmed, and deaths were first reported after 24 days. To date there are 525 242 recoveries and 13 502 deaths. "
   ]
  },
  {
   "cell_type": "markdown",
   "metadata": {},
   "source": [
    "## Confirmed cases, recoveries and deaths"
   ]
  },
  {
   "cell_type": "code",
   "execution_count": 166,
   "metadata": {
    "scrolled": true
   },
   "outputs": [
    {
     "data": {
      "image/png": "[encoded data removed]",
      "text/plain": [
       "<Figure size 576x360 with 1 Axes>"
      ]
     },
     "metadata": {
      "needs_background": "light"
     },
     "output_type": "display_data"
    }
   ],
   "source": [
    "# plot the number of positive cases and recoveries\n",
    "plt.figure(figsize=(8, 5))\n",
    "\n",
    "plt.plot(total_cases['date'], total_cases['confirmed'],\n",
    "         color='blue', label='Confirmed cases')\n",
    "plt.plot(total_cases['date'], total_cases['recoveries'],\n",
    "         color='black', label='Recoveries')\n",
    "plt.plot(total_cases['date'], total_cases['deaths'],\n",
    "         color='red', label='Deaths')\n",
    "\n",
    "# show the legend\n",
    "plt.legend()\n",
    "# set axis labels\n",
    "plt.ylabel('Total cases')\n",
    "plt.xlabel('Time')\n",
    "\n",
    "plt.show()"
   ]
  },
  {
   "cell_type": "code",
   "execution_count": 60,
   "metadata": {},
   "outputs": [
    {
     "data": {
      "image/png": "[encoded data removed]",
      "text/plain": [
       "<Figure size 720x720 with 1 Axes>"
      ]
     },
     "metadata": {
      "needs_background": "light"
     },
     "output_type": "display_data"
    }
   ],
   "source": [
    "# set figure size\n",
    "plt.figure(figsize=(10, 10))\n",
    "\n",
    "# plot all cases in a bar graph\n",
    "plt.bar(total_cases['month'], total_cases['confirmed'],\n",
    "        color='blue', edgecolor='black', label='Confirmed cases')\n",
    "plt.bar(total_cases['month'], total_cases['recoveries'],\n",
    "        color='black', edgecolor='black', label='Recoveries')\n",
    "plt.bar(total_cases['month'], total_cases['deaths'],\n",
    "        color='cyan', edgecolor='black', label='Deaths')\n",
    "\n",
    "# show the legend\n",
    "plt.legend()\n",
    "# set axis labels\n",
    "plt.ylabel('Total cases')\n",
    "plt.xlabel('Month')\n",
    "\n",
    "plt.show()"
   ]
  },
  {
   "cell_type": "markdown",
   "metadata": {},
   "source": [
    "More positive cases were reported from June to July. There has been a positive increase in recoveries and a small proportion of confirmed cases resulted in death."
   ]
  },
  {
   "cell_type": "code",
   "execution_count": 165,
   "metadata": {},
   "outputs": [
    {
     "data": {
      "image/png": "[encoded data removed]",
      "text/plain": [
       "<Figure size 576x360 with 1 Axes>"
      ]
     },
     "metadata": {
      "needs_background": "light"
     },
     "output_type": "display_data"
    }
   ],
   "source": [
    "plt.figure(figsize=(8, 5))\n",
    "\n",
    "plt.plot(total_cases['date'], total_cases['recov_rate'],\n",
    "         color='black', label='Recovery rate')\n",
    "plt.plot(total_cases['date'], total_cases['death_rate'],\n",
    "         color='red', label='Death rate')\n",
    "\n",
    "# show the legend\n",
    "plt.legend()\n",
    "# set axis labels\n",
    "plt.ylabel('Recovery and death rates')\n",
    "plt.xlabel('Time')\n",
    "\n",
    "plt.show()"
   ]
  },
  {
   "cell_type": "markdown",
   "metadata": {},
   "source": [
    "Even with the exponential increase in confirmed cases the death rate has been minimal, with only 2.2% of COVID related deaths being reported to date."
   ]
  },
  {
   "cell_type": "code",
   "execution_count": 74,
   "metadata": {},
   "outputs": [
    {
     "data": {
      "image/png": "[encoded data removed]",
      "text/plain": [
       "<Figure size 792x576 with 1 Axes>"
      ]
     },
     "metadata": {},
     "output_type": "display_data"
    },
    {
     "data": {
      "text/plain": [
       "<ggplot: (-9223371867199433142)>"
      ]
     },
     "execution_count": 74,
     "metadata": {},
     "output_type": "execute_result"
    }
   ],
   "source": [
    "# plot the number of cases based on transmission type\n",
    "ggplot(transmission, aes(x = 'type')) + \\\n",
    "    xlab('Transmission type') + \\\n",
    "    ylab('Number of confirmed cases') + \\\n",
    "    geom_bar() + \\\n",
    "    theme_bw() + \\\n",
    "    theme()"
   ]
  },
  {
   "cell_type": "markdown",
   "metadata": {},
   "source": [
    "An analysis of cases reported in mid-March (25 March 2020) showed that more people who tested positive for the virus had travelled abroad and contracted the virus in that period. This was before the travel ban was implemented. "
   ]
  },
  {
   "cell_type": "markdown",
   "metadata": {},
   "source": [
    "## Cases by province"
   ]
  },
  {
   "cell_type": "code",
   "execution_count": 171,
   "metadata": {},
   "outputs": [
    {
     "data": {
      "image/png": "[encoded data removed]",
      "text/plain": [
       "<Figure size 720x720 with 1 Axes>"
      ]
     },
     "metadata": {
      "needs_background": "light"
     },
     "output_type": "display_data"
    }
   ],
   "source": [
    "plt.figure(figsize=(10,10))\n",
    "\n",
    "plt.plot(confirmed['date'], confirmed['EC'],\n",
    "         color='black', label='Eastern Cape')\n",
    "plt.plot(confirmed['date'], confirmed['WC'],\n",
    "         color='green', label='Western Cape')\n",
    "plt.plot(confirmed['date'], confirmed['GP'],\n",
    "         color='red', label='Gauteng')\n",
    "plt.plot(confirmed['date'], confirmed['KZN'],\n",
    "         color='blue', label='Western Cape')\n",
    "plt.plot(confirmed['date'], confirmed['FS'],\n",
    "         color='purple', label='Free State')\n",
    "plt.plot(confirmed['date'], confirmed['LP'],\n",
    "         color='grey', label='Limpopo')\n",
    "plt.plot(confirmed['date'], confirmed['NW'],\n",
    "         color='orange', label='North West')\n",
    "plt.plot(confirmed['date'], confirmed['NC'],\n",
    "         color='navy', label='Northern Cape')\n",
    "plt.plot(confirmed['date'], confirmed['MP'],\n",
    "         color='cyan', label='Mpumalanga')\n",
    "\n",
    "# show the legend\n",
    "plt.legend()\n",
    "# set axis labels\n",
    "plt.ylabel('Confirmed cases')\n",
    "plt.xlabel('Time')\n",
    "\n",
    "plt.show()"
   ]
  },
  {
   "cell_type": "markdown",
   "metadata": {},
   "source": [
    "Gauteng, KZN, the Eastern Cape and the Western Cape have the highest positive cases in the country."
   ]
  },
  {
   "cell_type": "markdown",
   "metadata": {},
   "source": [
    "# SIR Modelling"
   ]
  },
  {
   "cell_type": "markdown",
   "metadata": {},
   "source": [
    "In order to model how the virus will spread we need to use the SIR model which requires the number of susceptible individuals, those who have been infected and those who have recovered. Two epidemiological quantities are also needed: the infection rate and the recovery rate. The reproductive rate of the virus when the first case was reported was 2.07. At the moment the model does not account for lockdown and travel restrictions.\n",
    "The code for this model was obtained from scipython.com."
   ]
  },
  {
   "cell_type": "code",
   "execution_count": 140,
   "metadata": {},
   "outputs": [],
   "source": [
    "# total population\n",
    "N = 59431006\n",
    "\n",
    "# recoveries & active infections\n",
    "I0 = 1\n",
    "R0 = 0\n",
    "\n",
    "# susceptible\n",
    "S0 = N - I0 - R0\n",
    "\n",
    "# infection rate\n",
    "B = 2.07\n",
    "\n",
    "# recovery rate\n",
    "G = 1/14\n",
    "\n",
    "# set the number of days to 250\n",
    "t = range(0, 250)"
   ]
  },
  {
   "cell_type": "code",
   "execution_count": 141,
   "metadata": {},
   "outputs": [],
   "source": [
    "# SIR model differential equations\n",
    "def derivative(y, t, N, B, G):\n",
    "    S, I, R = y\n",
    "    dSdt = -B * S * I / N\n",
    "    dIdt = B * S * I / N - G * I\n",
    "    dRdt = G * I\n",
    "    return dSdt, dIdt, dRdt"
   ]
  },
  {
   "cell_type": "code",
   "execution_count": 142,
   "metadata": {},
   "outputs": [],
   "source": [
    "# initial conditions\n",
    "y0 = S0, I0, R0\n",
    "ret = odeint(derivative, y0, t, args=(N, B, G))\n",
    "S, I, R = ret.T\n",
    "\n",
    "# create a dataframe for S, I and R\n",
    "infection_model = pd.DataFrame(\n",
    "    {'susceptible': S,\n",
    "     'infected': I,\n",
    "     'recovered': R,\n",
    "     'days': t})"
   ]
  },
  {
   "cell_type": "code",
   "execution_count": 133,
   "metadata": {},
   "outputs": [
    {
     "data": {
      "text/html": [
       "<div>\n",
       "<style scoped>\n",
       "    .dataframe tbody tr th:only-of-type {\n",
       "        vertical-align: middle;\n",
       "    }\n",
       "\n",
       "    .dataframe tbody tr th {\n",
       "        vertical-align: top;\n",
       "    }\n",
       "\n",
       "    .dataframe thead th {\n",
       "        text-align: right;\n",
       "    }\n",
       "</style>\n",
       "<table border=\"1\" class=\"dataframe\">\n",
       "  <thead>\n",
       "    <tr style=\"text-align: right;\">\n",
       "      <th></th>\n",
       "      <th>susceptible</th>\n",
       "      <th>infected</th>\n",
       "      <th>recovered</th>\n",
       "      <th>days</th>\n",
       "    </tr>\n",
       "  </thead>\n",
       "  <tbody>\n",
       "    <tr>\n",
       "      <th>245</th>\n",
       "      <td>0.000015</td>\n",
       "      <td>2.835992</td>\n",
       "      <td>5.943100e+07</td>\n",
       "      <td>245</td>\n",
       "    </tr>\n",
       "    <tr>\n",
       "      <th>246</th>\n",
       "      <td>0.000015</td>\n",
       "      <td>2.640486</td>\n",
       "      <td>5.943100e+07</td>\n",
       "      <td>246</td>\n",
       "    </tr>\n",
       "    <tr>\n",
       "      <th>247</th>\n",
       "      <td>0.000015</td>\n",
       "      <td>2.458459</td>\n",
       "      <td>5.943100e+07</td>\n",
       "      <td>247</td>\n",
       "    </tr>\n",
       "    <tr>\n",
       "      <th>248</th>\n",
       "      <td>0.000015</td>\n",
       "      <td>2.288979</td>\n",
       "      <td>5.943100e+07</td>\n",
       "      <td>248</td>\n",
       "    </tr>\n",
       "    <tr>\n",
       "      <th>249</th>\n",
       "      <td>0.000015</td>\n",
       "      <td>2.131183</td>\n",
       "      <td>5.943100e+07</td>\n",
       "      <td>249</td>\n",
       "    </tr>\n",
       "  </tbody>\n",
       "</table>\n",
       "</div>"
      ],
      "text/plain": [
       "     susceptible  infected     recovered  days\n",
       "245     0.000015  2.835992  5.943100e+07   245\n",
       "246     0.000015  2.640486  5.943100e+07   246\n",
       "247     0.000015  2.458459  5.943100e+07   247\n",
       "248     0.000015  2.288979  5.943100e+07   248\n",
       "249     0.000015  2.131183  5.943100e+07   249"
      ]
     },
     "execution_count": 133,
     "metadata": {},
     "output_type": "execute_result"
    }
   ],
   "source": [
    "infection_model.tail()"
   ]
  },
  {
   "cell_type": "code",
   "execution_count": 143,
   "metadata": {},
   "outputs": [
    {
     "data": {
      "image/png": "[encoded data removed]",
      "text/plain": [
       "<Figure size 792x576 with 1 Axes>"
      ]
     },
     "metadata": {},
     "output_type": "display_data"
    },
    {
     "data": {
      "text/plain": [
       "<ggplot: (-9223371877550148629)>"
      ]
     },
     "execution_count": 143,
     "metadata": {},
     "output_type": "execute_result"
    }
   ],
   "source": [
    "ggplot(infection_model, aes(x='days')) + \\\n",
    "    geom_line(aes(y='recovered'), color='red') + \\\n",
    "    geom_line(aes(y='infected'), color='black') + \\\n",
    "    xlab('Time (days)') + \\\n",
    "    ylab('Number of cases') + \\\n",
    "    theme_bw() + \\\n",
    "    theme()"
   ]
  },
  {
   "cell_type": "code",
   "execution_count": null,
   "metadata": {},
   "outputs": [],
   "source": []
  }
 ],
 "metadata": {
  "kernelspec": {
   "display_name": "Python 3",
   "language": "python",
   "name": "python3"
  },
  "language_info": {
   "codemirror_mode": {
    "name": "ipython",
    "version": 3
   },
   "file_extension": ".py",
   "mimetype": "text/x-python",
   "name": "python",
   "nbconvert_exporter": "python",
   "pygments_lexer": "ipython3",
   "version": "3.7.3"
  },
  "toc": {
   "base_numbering": 1,
   "nav_menu": {},
   "number_sections": true,
   "sideBar": true,
   "skip_h1_title": false,
   "title_cell": "Table of Contents",
   "title_sidebar": "Contents",
   "toc_cell": false,
   "toc_position": {},
   "toc_section_display": true,
   "toc_window_display": false
  }
 },
 "nbformat": 4,
 "nbformat_minor": 2
}
