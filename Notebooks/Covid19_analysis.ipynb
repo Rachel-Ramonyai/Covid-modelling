{
 "cells": [
  {
   "cell_type": "markdown",
   "metadata": {},
   "source": [
    "# COVID-19 ANALYSIS"
   ]
  },
  {
   "cell_type": "markdown",
   "metadata": {},
   "source": [
    "This is an analysis of the COVID-19 pandemic in South Africa from March to August 2020"
   ]
  },
  {
   "cell_type": "markdown",
   "metadata": {},
   "source": [
    "# Load libraries"
   ]
  },
  {
   "cell_type": "code",
   "execution_count": 1,
   "metadata": {},
   "outputs": [
    {
     "name": "stderr",
     "output_type": "stream",
     "text": [
      "C:\\Users\\zintl\\Anaconda3\\lib\\site-packages\\numpy\\_distributor_init.py:32: UserWarning: loaded more than 1 DLL from .libs:\n",
      "C:\\Users\\zintl\\Anaconda3\\lib\\site-packages\\numpy\\.libs\\libopenblas.NOIJJG62EMASZI6NYURL6JBKM4EVBGM7.gfortran-win_amd64.dll\n",
      "C:\\Users\\zintl\\Anaconda3\\lib\\site-packages\\numpy\\.libs\\libopenblas.PYQHXLVVQ7VESDPUVUADXEVJOBGHJPAY.gfortran-win_amd64.dll\n",
      "  stacklevel=1)\n",
      "C:\\Users\\zintl\\Anaconda3\\lib\\site-packages\\statsmodels\\tools\\_testing.py:19: FutureWarning: pandas.util.testing is deprecated. Use the functions in the public API at pandas.testing instead.\n",
      "  import pandas.util.testing as tm\n",
      "C:\\Users\\zintl\\Anaconda3\\lib\\site-packages\\statsmodels\\compat\\pandas.py:23: FutureWarning: The Panel class is removed from pandas. Accessing it from the top-level namespace will also be removed in the next version\n",
      "  data_klasses = (pandas.Series, pandas.DataFrame, pandas.Panel)\n"
     ]
    }
   ],
   "source": [
    "import numpy as np\n",
    "import pandas as pd\n",
    "import seaborn as sns\n",
    "from ggplot import *\n",
    "from datetime import datetime\n",
    "import matplotlib.pyplot as plt\n",
    "%matplotlib inline"
   ]
  },
  {
   "cell_type": "code",
   "execution_count": 4,
   "metadata": {},
   "outputs": [],
   "source": [
    "#national_report = pd.read_csv('../data/nicd_daily_national_report.csv')\n",
    "confirmed = pd.read_csv(\n",
    "    'https://raw.githubusercontent.com/dsfsi/covid19za/master/data/covid19za_provincial_cumulative_timeline_confirmed.csv')\n",
    "recoveries = pd.read_csv(\n",
    "    'https://raw.githubusercontent.com/dsfsi/covid19za/master/data/covid19za_provincial_cumulative_timeline_recoveries.csv')\n",
    "deaths = pd.read_csv(\n",
    "    'https://raw.githubusercontent.com/dsfsi/covid19za/master/data/covid19za_provincial_cumulative_timeline_deaths.csv')"
   ]
  },
  {
   "cell_type": "code",
   "execution_count": 22,
   "metadata": {},
   "outputs": [
    {
     "data": {
      "text/html": [
       "<div>\n",
       "<style scoped>\n",
       "    .dataframe tbody tr th:only-of-type {\n",
       "        vertical-align: middle;\n",
       "    }\n",
       "\n",
       "    .dataframe tbody tr th {\n",
       "        vertical-align: top;\n",
       "    }\n",
       "\n",
       "    .dataframe thead th {\n",
       "        text-align: right;\n",
       "    }\n",
       "</style>\n",
       "<table border=\"1\" class=\"dataframe\">\n",
       "  <thead>\n",
       "    <tr style=\"text-align: right;\">\n",
       "      <th></th>\n",
       "      <th>date</th>\n",
       "      <th>YYYYMMDD</th>\n",
       "      <th>EC</th>\n",
       "      <th>FS</th>\n",
       "      <th>GP</th>\n",
       "      <th>KZN</th>\n",
       "      <th>LP</th>\n",
       "      <th>MP</th>\n",
       "      <th>NC</th>\n",
       "      <th>NW</th>\n",
       "      <th>WC</th>\n",
       "      <th>UNKNOWN</th>\n",
       "      <th>total</th>\n",
       "      <th>source</th>\n",
       "    </tr>\n",
       "  </thead>\n",
       "  <tbody>\n",
       "    <tr>\n",
       "      <th>171</th>\n",
       "      <td>2020-08-25</td>\n",
       "      <td>20200825</td>\n",
       "      <td>85311.0</td>\n",
       "      <td>35603.0</td>\n",
       "      <td>206892.0</td>\n",
       "      <td>110521.0</td>\n",
       "      <td>12703.0</td>\n",
       "      <td>23336.0</td>\n",
       "      <td>9375.0</td>\n",
       "      <td>24445.0</td>\n",
       "      <td>104781.0</td>\n",
       "      <td>50.0</td>\n",
       "      <td>613017</td>\n",
       "      <td>https://twitter.com/nicd_sa/status/12983516283...</td>\n",
       "    </tr>\n",
       "    <tr>\n",
       "      <th>172</th>\n",
       "      <td>2020-08-26</td>\n",
       "      <td>20200826</td>\n",
       "      <td>85472.0</td>\n",
       "      <td>35980.0</td>\n",
       "      <td>207610.0</td>\n",
       "      <td>111096.0</td>\n",
       "      <td>12795.0</td>\n",
       "      <td>23555.0</td>\n",
       "      <td>9500.0</td>\n",
       "      <td>24646.0</td>\n",
       "      <td>104997.0</td>\n",
       "      <td>50.0</td>\n",
       "      <td>615701</td>\n",
       "      <td>https://twitter.com/nicd_sa/status/12987029468...</td>\n",
       "    </tr>\n",
       "    <tr>\n",
       "      <th>173</th>\n",
       "      <td>2020-08-27</td>\n",
       "      <td>20200827</td>\n",
       "      <td>85625.0</td>\n",
       "      <td>36419.0</td>\n",
       "      <td>208156.0</td>\n",
       "      <td>111585.0</td>\n",
       "      <td>12867.0</td>\n",
       "      <td>23677.0</td>\n",
       "      <td>9829.0</td>\n",
       "      <td>24805.0</td>\n",
       "      <td>105273.0</td>\n",
       "      <td>50.0</td>\n",
       "      <td>618286</td>\n",
       "      <td>https://twitter.com/nicd_sa/status/12990610006...</td>\n",
       "    </tr>\n",
       "  </tbody>\n",
       "</table>\n",
       "</div>"
      ],
      "text/plain": [
       "          date  YYYYMMDD       EC       FS        GP       KZN       LP  \\\n",
       "171 2020-08-25  20200825  85311.0  35603.0  206892.0  110521.0  12703.0   \n",
       "172 2020-08-26  20200826  85472.0  35980.0  207610.0  111096.0  12795.0   \n",
       "173 2020-08-27  20200827  85625.0  36419.0  208156.0  111585.0  12867.0   \n",
       "\n",
       "          MP      NC       NW        WC  UNKNOWN   total  \\\n",
       "171  23336.0  9375.0  24445.0  104781.0     50.0  613017   \n",
       "172  23555.0  9500.0  24646.0  104997.0     50.0  615701   \n",
       "173  23677.0  9829.0  24805.0  105273.0     50.0  618286   \n",
       "\n",
       "                                                source  \n",
       "171  https://twitter.com/nicd_sa/status/12983516283...  \n",
       "172  https://twitter.com/nicd_sa/status/12987029468...  \n",
       "173  https://twitter.com/nicd_sa/status/12990610006...  "
      ]
     },
     "execution_count": 22,
     "metadata": {},
     "output_type": "execute_result"
    }
   ],
   "source": [
    "confirmed['date'] = pd.to_datetime(confirmed['date'], format='%d-%m-%Y')\n",
    "confirmed.tail(3)"
   ]
  },
  {
   "cell_type": "code",
   "execution_count": 20,
   "metadata": {},
   "outputs": [
    {
     "data": {
      "text/html": [
       "<div>\n",
       "<style scoped>\n",
       "    .dataframe tbody tr th:only-of-type {\n",
       "        vertical-align: middle;\n",
       "    }\n",
       "\n",
       "    .dataframe tbody tr th {\n",
       "        vertical-align: top;\n",
       "    }\n",
       "\n",
       "    .dataframe thead th {\n",
       "        text-align: right;\n",
       "    }\n",
       "</style>\n",
       "<table border=\"1\" class=\"dataframe\">\n",
       "  <thead>\n",
       "    <tr style=\"text-align: right;\">\n",
       "      <th></th>\n",
       "      <th>date</th>\n",
       "      <th>YYYYMMDD</th>\n",
       "      <th>EC</th>\n",
       "      <th>FS</th>\n",
       "      <th>GP</th>\n",
       "      <th>KZN</th>\n",
       "      <th>LP</th>\n",
       "      <th>MP</th>\n",
       "      <th>NC</th>\n",
       "      <th>NW</th>\n",
       "      <th>WC</th>\n",
       "      <th>UNKNOWN</th>\n",
       "      <th>total</th>\n",
       "      <th>source</th>\n",
       "    </tr>\n",
       "  </thead>\n",
       "  <tbody>\n",
       "    <tr>\n",
       "      <th>124</th>\n",
       "      <td>2020-08-25</td>\n",
       "      <td>20200825</td>\n",
       "      <td>80614</td>\n",
       "      <td>21174</td>\n",
       "      <td>175407</td>\n",
       "      <td>93019</td>\n",
       "      <td>11488</td>\n",
       "      <td>21370</td>\n",
       "      <td>6381</td>\n",
       "      <td>17008</td>\n",
       "      <td>93920</td>\n",
       "      <td>0</td>\n",
       "      <td>520381</td>\n",
       "      <td>https://twitter.com/nicd_sa/status/12983516283...</td>\n",
       "    </tr>\n",
       "    <tr>\n",
       "      <th>125</th>\n",
       "      <td>2020-08-26</td>\n",
       "      <td>20200826</td>\n",
       "      <td>80614</td>\n",
       "      <td>22740</td>\n",
       "      <td>176513</td>\n",
       "      <td>93814</td>\n",
       "      <td>11580</td>\n",
       "      <td>21370</td>\n",
       "      <td>6409</td>\n",
       "      <td>17702</td>\n",
       "      <td>94500</td>\n",
       "      <td>0</td>\n",
       "      <td>525242</td>\n",
       "      <td>https://twitter.com/nicd_sa/status/12987029468...</td>\n",
       "    </tr>\n",
       "    <tr>\n",
       "      <th>126</th>\n",
       "      <td>2020-08-27</td>\n",
       "      <td>20200827</td>\n",
       "      <td>81373</td>\n",
       "      <td>22829</td>\n",
       "      <td>178479</td>\n",
       "      <td>94680</td>\n",
       "      <td>11639</td>\n",
       "      <td>21591</td>\n",
       "      <td>6640</td>\n",
       "      <td>17993</td>\n",
       "      <td>96114</td>\n",
       "      <td>0</td>\n",
       "      <td>531338</td>\n",
       "      <td>https://twitter.com/nicd_sa/status/12990610006...</td>\n",
       "    </tr>\n",
       "  </tbody>\n",
       "</table>\n",
       "</div>"
      ],
      "text/plain": [
       "          date  YYYYMMDD     EC     FS      GP    KZN     LP     MP    NC  \\\n",
       "124 2020-08-25  20200825  80614  21174  175407  93019  11488  21370  6381   \n",
       "125 2020-08-26  20200826  80614  22740  176513  93814  11580  21370  6409   \n",
       "126 2020-08-27  20200827  81373  22829  178479  94680  11639  21591  6640   \n",
       "\n",
       "        NW     WC  UNKNOWN   total  \\\n",
       "124  17008  93920        0  520381   \n",
       "125  17702  94500        0  525242   \n",
       "126  17993  96114        0  531338   \n",
       "\n",
       "                                                source  \n",
       "124  https://twitter.com/nicd_sa/status/12983516283...  \n",
       "125  https://twitter.com/nicd_sa/status/12987029468...  \n",
       "126  https://twitter.com/nicd_sa/status/12990610006...  "
      ]
     },
     "execution_count": 20,
     "metadata": {},
     "output_type": "execute_result"
    }
   ],
   "source": [
    "recoveries['date'] = pd.to_datetime(recoveries['date'], format='%d-%m-%Y')\n",
    "recoveries.tail(3)"
   ]
  },
  {
   "cell_type": "code",
   "execution_count": 21,
   "metadata": {},
   "outputs": [
    {
     "data": {
      "text/html": [
       "<div>\n",
       "<style scoped>\n",
       "    .dataframe tbody tr th:only-of-type {\n",
       "        vertical-align: middle;\n",
       "    }\n",
       "\n",
       "    .dataframe tbody tr th {\n",
       "        vertical-align: top;\n",
       "    }\n",
       "\n",
       "    .dataframe thead th {\n",
       "        text-align: right;\n",
       "    }\n",
       "</style>\n",
       "<table border=\"1\" class=\"dataframe\">\n",
       "  <thead>\n",
       "    <tr style=\"text-align: right;\">\n",
       "      <th></th>\n",
       "      <th>date</th>\n",
       "      <th>YYYYMMDD</th>\n",
       "      <th>EC</th>\n",
       "      <th>FS</th>\n",
       "      <th>GP</th>\n",
       "      <th>KZN</th>\n",
       "      <th>LP</th>\n",
       "      <th>MP</th>\n",
       "      <th>NC</th>\n",
       "      <th>NW</th>\n",
       "      <th>WC</th>\n",
       "      <th>UNKNOWN</th>\n",
       "      <th>total</th>\n",
       "      <th>source</th>\n",
       "    </tr>\n",
       "  </thead>\n",
       "  <tbody>\n",
       "    <tr>\n",
       "      <th>147</th>\n",
       "      <td>2020-08-25</td>\n",
       "      <td>20200825</td>\n",
       "      <td>2816</td>\n",
       "      <td>567</td>\n",
       "      <td>3334</td>\n",
       "      <td>1997</td>\n",
       "      <td>179</td>\n",
       "      <td>312</td>\n",
       "      <td>116</td>\n",
       "      <td>224</td>\n",
       "      <td>3763</td>\n",
       "      <td>0</td>\n",
       "      <td>13308</td>\n",
       "      <td>https://twitter.com/nicd_sa/status/12983516283...</td>\n",
       "    </tr>\n",
       "    <tr>\n",
       "      <th>148</th>\n",
       "      <td>2020-08-26</td>\n",
       "      <td>20200826</td>\n",
       "      <td>2828</td>\n",
       "      <td>567</td>\n",
       "      <td>3395</td>\n",
       "      <td>2054</td>\n",
       "      <td>179</td>\n",
       "      <td>312</td>\n",
       "      <td>120</td>\n",
       "      <td>224</td>\n",
       "      <td>3823</td>\n",
       "      <td>0</td>\n",
       "      <td>13502</td>\n",
       "      <td>https://twitter.com/nicd_sa/status/12987029468...</td>\n",
       "    </tr>\n",
       "    <tr>\n",
       "      <th>149</th>\n",
       "      <td>2020-08-27</td>\n",
       "      <td>20200827</td>\n",
       "      <td>2853</td>\n",
       "      <td>567</td>\n",
       "      <td>3428</td>\n",
       "      <td>2102</td>\n",
       "      <td>179</td>\n",
       "      <td>312</td>\n",
       "      <td>120</td>\n",
       "      <td>224</td>\n",
       "      <td>3843</td>\n",
       "      <td>0</td>\n",
       "      <td>13628</td>\n",
       "      <td>https://twitter.com/nicd_sa/status/12990610006...</td>\n",
       "    </tr>\n",
       "  </tbody>\n",
       "</table>\n",
       "</div>"
      ],
      "text/plain": [
       "          date  YYYYMMDD    EC   FS    GP   KZN   LP   MP   NC   NW    WC  \\\n",
       "147 2020-08-25  20200825  2816  567  3334  1997  179  312  116  224  3763   \n",
       "148 2020-08-26  20200826  2828  567  3395  2054  179  312  120  224  3823   \n",
       "149 2020-08-27  20200827  2853  567  3428  2102  179  312  120  224  3843   \n",
       "\n",
       "     UNKNOWN  total                                             source  \n",
       "147        0  13308  https://twitter.com/nicd_sa/status/12983516283...  \n",
       "148        0  13502  https://twitter.com/nicd_sa/status/12987029468...  \n",
       "149        0  13628  https://twitter.com/nicd_sa/status/12990610006...  "
      ]
     },
     "execution_count": 21,
     "metadata": {},
     "output_type": "execute_result"
    }
   ],
   "source": [
    "deaths['date'] = pd.to_datetime(deaths['date'], format='%d-%m-%Y')\n",
    "deaths.tail(3)"
   ]
  },
  {
   "cell_type": "markdown",
   "metadata": {},
   "source": [
    "Create a new dataframe with the total number of confirmed positive cases, recoveries and deaths."
   ]
  },
  {
   "cell_type": "code",
   "execution_count": 8,
   "metadata": {},
   "outputs": [],
   "source": [
    "# combine the number of cases into a new dataframe\n",
    "total_cases = pd.concat([confirmed['date'], confirmed['total'],\n",
    "                         recoveries['total'], deaths['total']], axis=1)"
   ]
  },
  {
   "cell_type": "code",
   "execution_count": 9,
   "metadata": {},
   "outputs": [],
   "source": [
    "total_cases['confirmed'] = confirmed['total']\n",
    "total_cases['recoveries'] = recoveries['total']\n",
    "total_cases['deaths'] = deaths['total']\n",
    "\n",
    "# convert date column from string to datetime\n",
    "total_cases['date'] = pd.to_datetime(total_cases['date'], format='%d-%m-%Y')"
   ]
  },
  {
   "cell_type": "code",
   "execution_count": 10,
   "metadata": {},
   "outputs": [],
   "source": [
    "# drop the repeated columns\n",
    "total_cases = total_cases.drop(['total', 'total', 'total'], axis=1)"
   ]
  },
  {
   "cell_type": "code",
   "execution_count": 11,
   "metadata": {},
   "outputs": [
    {
     "name": "stdout",
     "output_type": "stream",
     "text": [
      "<class 'pandas.core.frame.DataFrame'>\n",
      "RangeIndex: 174 entries, 0 to 173\n",
      "Data columns (total 4 columns):\n",
      " #   Column      Non-Null Count  Dtype         \n",
      "---  ------      --------------  -----         \n",
      " 0   date        174 non-null    datetime64[ns]\n",
      " 1   confirmed   174 non-null    int64         \n",
      " 2   recoveries  127 non-null    float64       \n",
      " 3   deaths      150 non-null    float64       \n",
      "dtypes: datetime64[ns](1), float64(2), int64(1)\n",
      "memory usage: 5.6 KB\n"
     ]
    }
   ],
   "source": [
    "total_cases.info()"
   ]
  },
  {
   "cell_type": "code",
   "execution_count": 12,
   "metadata": {},
   "outputs": [],
   "source": [
    "# shift rows down so that dates correspond \n",
    "total_cases['recoveries'] = total_cases['recoveries'].shift(47)\n",
    "total_cases['deaths'] = total_cases['deaths'].shift(24)"
   ]
  },
  {
   "cell_type": "code",
   "execution_count": 13,
   "metadata": {},
   "outputs": [
    {
     "data": {
      "text/html": [
       "<div>\n",
       "<style scoped>\n",
       "    .dataframe tbody tr th:only-of-type {\n",
       "        vertical-align: middle;\n",
       "    }\n",
       "\n",
       "    .dataframe tbody tr th {\n",
       "        vertical-align: top;\n",
       "    }\n",
       "\n",
       "    .dataframe thead th {\n",
       "        text-align: right;\n",
       "    }\n",
       "</style>\n",
       "<table border=\"1\" class=\"dataframe\">\n",
       "  <thead>\n",
       "    <tr style=\"text-align: right;\">\n",
       "      <th></th>\n",
       "      <th>date</th>\n",
       "      <th>confirmed</th>\n",
       "      <th>recoveries</th>\n",
       "      <th>deaths</th>\n",
       "    </tr>\n",
       "  </thead>\n",
       "  <tbody>\n",
       "    <tr>\n",
       "      <th>169</th>\n",
       "      <td>2020-08-23</td>\n",
       "      <td>609773</td>\n",
       "      <td>506470.0</td>\n",
       "      <td>13059.0</td>\n",
       "    </tr>\n",
       "    <tr>\n",
       "      <th>170</th>\n",
       "      <td>2020-08-24</td>\n",
       "      <td>611450</td>\n",
       "      <td>516484.0</td>\n",
       "      <td>13159.0</td>\n",
       "    </tr>\n",
       "    <tr>\n",
       "      <th>171</th>\n",
       "      <td>2020-08-25</td>\n",
       "      <td>613017</td>\n",
       "      <td>520381.0</td>\n",
       "      <td>13308.0</td>\n",
       "    </tr>\n",
       "    <tr>\n",
       "      <th>172</th>\n",
       "      <td>2020-08-26</td>\n",
       "      <td>615701</td>\n",
       "      <td>525242.0</td>\n",
       "      <td>13502.0</td>\n",
       "    </tr>\n",
       "    <tr>\n",
       "      <th>173</th>\n",
       "      <td>2020-08-27</td>\n",
       "      <td>618286</td>\n",
       "      <td>531338.0</td>\n",
       "      <td>13628.0</td>\n",
       "    </tr>\n",
       "  </tbody>\n",
       "</table>\n",
       "</div>"
      ],
      "text/plain": [
       "          date  confirmed  recoveries   deaths\n",
       "169 2020-08-23     609773    506470.0  13059.0\n",
       "170 2020-08-24     611450    516484.0  13159.0\n",
       "171 2020-08-25     613017    520381.0  13308.0\n",
       "172 2020-08-26     615701    525242.0  13502.0\n",
       "173 2020-08-27     618286    531338.0  13628.0"
      ]
     },
     "execution_count": 13,
     "metadata": {},
     "output_type": "execute_result"
    }
   ],
   "source": [
    "total_cases.tail()"
   ]
  },
  {
   "cell_type": "markdown",
   "metadata": {},
   "source": [
    "Recoveries were recorded only 47 days after the first positive case was confirmed, and deaths were first reported after 24 days. To date there are 525 242 recoveries and 13 502 deaths. "
   ]
  },
  {
   "cell_type": "code",
   "execution_count": 14,
   "metadata": {},
   "outputs": [
    {
     "data": {
      "image/png": "[encoded data removed]",
      "text/plain": [
       "<Figure size 792x576 with 1 Axes>"
      ]
     },
     "metadata": {},
     "output_type": "display_data"
    },
    {
     "data": {
      "text/plain": [
       "<ggplot: (127507598172)>"
      ]
     },
     "execution_count": 14,
     "metadata": {},
     "output_type": "execute_result"
    }
   ],
   "source": [
    "# plot the number of positive cases and recoveries\n",
    "ggplot(total_cases, aes(x='date')) + \\\n",
    "    geom_line(aes(y='confirmed'), color='black') + \\\n",
    "    geom_line(aes(y='recoveries'), color='red') + \\\n",
    "    geom_line(aes(y='deaths'), color='green') + \\\n",
    "    xlab('Time') + \\\n",
    "    ylab('Number of cases') + \\\n",
    "    theme_bw()\n",
    "# this graph still needs a legend"
   ]
  },
  {
   "cell_type": "code",
   "execution_count": 25,
   "metadata": {},
   "outputs": [
    {
     "data": {
      "image/png": "[encoded data removed]",
      "text/plain": [
       "<Figure size 792x576 with 1 Axes>"
      ]
     },
     "metadata": {},
     "output_type": "display_data"
    },
    {
     "data": {
      "text/plain": [
       "<ggplot: (127508988911)>"
      ]
     },
     "execution_count": 25,
     "metadata": {},
     "output_type": "execute_result"
    }
   ],
   "source": [
    "ggplot(confirmed, aes(x='date')) + \\\n",
    "    geom_line(aes(y='EC'), color='black') + \\\n",
    "    geom_line(aes(y='WC'), color='green') + \\\n",
    "    geom_line(aes(y='GP'), color='red') + \\\n",
    "    xlab('Time') + \\\n",
    "    ylab('Number of cases per province') + \\\n",
    "    theme_bw()"
   ]
  },
  {
   "cell_type": "code",
   "execution_count": 109,
   "metadata": {},
   "outputs": [
    {
     "data": {
      "image/png": "[encoded data removed]",
      "text/plain": [
       "<Figure size 792x576 with 1 Axes>"
      ]
     },
     "metadata": {},
     "output_type": "display_data"
    },
    {
     "data": {
      "text/plain": [
       "<ggplot: (-9223371888529560134)>"
      ]
     },
     "execution_count": 109,
     "metadata": {},
     "output_type": "execute_result"
    }
   ],
   "source": [
    "ggplot(aes('EC', ), data=confirmed) + \\\n",
    "    geom_bar()"
   ]
  },
  {
   "cell_type": "code",
   "execution_count": 106,
   "metadata": {},
   "outputs": [
    {
     "data": {
      "text/plain": [
       "3"
      ]
     },
     "execution_count": 106,
     "metadata": {},
     "output_type": "execute_result"
    }
   ],
   "source": [
    "total_cases['date'][0].month"
   ]
  },
  {
   "cell_type": "code",
   "execution_count": null,
   "metadata": {},
   "outputs": [],
   "source": []
  }
 ],
 "metadata": {
  "kernelspec": {
   "display_name": "Python 3",
   "language": "python",
   "name": "python3"
  },
  "language_info": {
   "codemirror_mode": {
    "name": "ipython",
    "version": 3
   },
   "file_extension": ".py",
   "mimetype": "text/x-python",
   "name": "python",
   "nbconvert_exporter": "python",
   "pygments_lexer": "ipython3",
   "version": "3.7.3"
  },
  "toc": {
   "base_numbering": 1,
   "nav_menu": {},
   "number_sections": true,
   "sideBar": true,
   "skip_h1_title": false,
   "title_cell": "Table of Contents",
   "title_sidebar": "Contents",
   "toc_cell": false,
   "toc_position": {},
   "toc_section_display": true,
   "toc_window_display": false
  }
 },
 "nbformat": 4,
 "nbformat_minor": 2
}
