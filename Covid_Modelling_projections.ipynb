{
  "nbformat": 4,
  "nbformat_minor": 0,
  "metadata": {
    "colab": {
      "name": "Covid Modelling projections.ipynb",
      "provenance": [],
      "collapsed_sections": [],
      "include_colab_link": true
    },
    "kernelspec": {
      "name": "python3",
      "display_name": "Python 3"
    }
  },
  "cells": [
    {
      "cell_type": "markdown",
      "metadata": {
        "id": "view-in-github",
        "colab_type": "text"
      },
      "source": [
        "<a href=\"https://colab.research.google.com/github/ZintleFaltein/Covid-modelling/blob/Rachel/Covid_Modelling_projections.ipynb\" target=\"_parent\"><img src=\"https://colab.research.google.com/assets/colab-badge.svg\" alt=\"Open In Colab\"/></a>"
      ]
    },
    {
      "cell_type": "markdown",
      "metadata": {
        "id": "bSxH5shif8nl",
        "colab_type": "text"
      },
      "source": [
        "#Covid- 19  Modelling\n",
        "\n"
      ]
    },
    {
      "cell_type": "code",
      "metadata": {
        "id": "0qZyJ5afkfRR",
        "colab_type": "code",
        "colab": {
          "base_uri": "https://localhost:8080/",
          "height": 1000
        },
        "outputId": "ade64ca4-8640-42a7-9b2f-62dbbcdd3e33"
      },
      "source": [
        "!pip install \"git+https://github.com/lisphilar/covid19-sir.git#egg=covsirphy\""
      ],
      "execution_count": 13,
      "outputs": [
        {
          "output_type": "stream",
          "text": [
            "Collecting covsirphy\n",
            "  Cloning https://github.com/lisphilar/covid19-sir.git to /tmp/pip-install-81ymmxku/covsirphy\n",
            "  Running command git clone -q https://github.com/lisphilar/covid19-sir.git /tmp/pip-install-81ymmxku/covsirphy\n",
            "Requirement already satisfied: numpy in /usr/local/lib/python3.6/dist-packages (from covsirphy) (1.18.5)\n",
            "Requirement already satisfied: matplotlib in /usr/local/lib/python3.6/dist-packages (from covsirphy) (3.2.2)\n",
            "Collecting optuna\n",
            "\u001b[?25l  Downloading https://files.pythonhosted.org/packages/9f/b1/a5f0574fa0d769bf0a5629722c84bb0af015967191a37401fe8508c5fb6a/optuna-2.1.0.tar.gz (232kB)\n",
            "\u001b[K     |████████████████████████████████| 235kB 2.8MB/s \n",
            "\u001b[?25h  Installing build dependencies ... \u001b[?25l\u001b[?25hdone\n",
            "  Getting requirements to build wheel ... \u001b[?25l\u001b[?25hdone\n",
            "    Preparing wheel metadata ... \u001b[?25l\u001b[?25hdone\n",
            "Requirement already satisfied: pandas in /usr/local/lib/python3.6/dist-packages (from covsirphy) (1.0.5)\n",
            "Requirement already satisfied: seaborn in /usr/local/lib/python3.6/dist-packages (from covsirphy) (0.10.1)\n",
            "Requirement already satisfied: dask[complete] in /usr/local/lib/python3.6/dist-packages (from covsirphy) (2.12.0)\n",
            "Requirement already satisfied: scipy in /usr/local/lib/python3.6/dist-packages (from covsirphy) (1.4.1)\n",
            "Requirement already satisfied: scikit-learn in /usr/local/lib/python3.6/dist-packages (from covsirphy) (0.22.2.post1)\n",
            "Collecting japanmap\n",
            "\u001b[?25l  Downloading https://files.pythonhosted.org/packages/6c/49/2b29122d76a631984df2ebebead802f4e5752e33fe3478ccec2a2e4073da/japanmap-0.0.21.tar.gz (167kB)\n",
            "\u001b[K     |████████████████████████████████| 174kB 8.7MB/s \n",
            "\u001b[?25hCollecting better-exceptions\n",
            "  Downloading https://files.pythonhosted.org/packages/e8/cd/26f11b8e0c3d96cfe55452ac365d8aad369b341e42548378158221b44c29/better_exceptions-0.2.2-py3-none-any.whl\n",
            "Requirement already satisfied: requests in /usr/local/lib/python3.6/dist-packages (from covsirphy) (2.23.0)\n",
            "Collecting ruptures\n",
            "\u001b[?25l  Downloading https://files.pythonhosted.org/packages/3b/8e/75a4aba556a9285b1111c7f82febea3bc9ace3efc095ba2987db21bfd2db/ruptures-1.0.5-py3-none-any.whl (56kB)\n",
            "\u001b[K     |████████████████████████████████| 61kB 7.0MB/s \n",
            "\u001b[?25hCollecting covid19dh\n",
            "  Downloading https://files.pythonhosted.org/packages/ad/bc/f64de85fadea71fbd76b0f4d67288bf6188ce837cb2acbcc6e1dd700b879/covid19dh-2.0.3-py3-none-any.whl\n",
            "Requirement already satisfied: tabulate in /usr/local/lib/python3.6/dist-packages (from covsirphy) (0.8.7)\n",
            "Requirement already satisfied: cycler>=0.10 in /usr/local/lib/python3.6/dist-packages (from matplotlib->covsirphy) (0.10.0)\n",
            "Requirement already satisfied: pyparsing!=2.0.4,!=2.1.2,!=2.1.6,>=2.0.1 in /usr/local/lib/python3.6/dist-packages (from matplotlib->covsirphy) (2.4.7)\n",
            "Requirement already satisfied: python-dateutil>=2.1 in /usr/local/lib/python3.6/dist-packages (from matplotlib->covsirphy) (2.8.1)\n",
            "Requirement already satisfied: kiwisolver>=1.0.1 in /usr/local/lib/python3.6/dist-packages (from matplotlib->covsirphy) (1.2.0)\n",
            "Requirement already satisfied: joblib in /usr/local/lib/python3.6/dist-packages (from optuna->covsirphy) (0.16.0)\n",
            "Collecting cliff\n",
            "\u001b[?25l  Downloading https://files.pythonhosted.org/packages/71/06/03b1f92d46546a18eabf33ff7f37ef422c18c93d5a926bf590fee32ebe75/cliff-3.4.0-py3-none-any.whl (76kB)\n",
            "\u001b[K     |████████████████████████████████| 81kB 7.3MB/s \n",
            "\u001b[?25hCollecting alembic\n",
            "\u001b[?25l  Downloading https://files.pythonhosted.org/packages/60/1e/cabc75a189de0fbb2841d0975243e59bde8b7822bacbb95008ac6fe9ad47/alembic-1.4.2.tar.gz (1.1MB)\n",
            "\u001b[K     |████████████████████████████████| 1.1MB 10.3MB/s \n",
            "\u001b[?25h  Installing build dependencies ... \u001b[?25l\u001b[?25hdone\n",
            "  Getting requirements to build wheel ... \u001b[?25l\u001b[?25hdone\n",
            "    Preparing wheel metadata ... \u001b[?25l\u001b[?25hdone\n",
            "Requirement already satisfied: tqdm in /usr/local/lib/python3.6/dist-packages (from optuna->covsirphy) (4.41.1)\n",
            "Collecting cmaes>=0.6.0\n",
            "  Downloading https://files.pythonhosted.org/packages/ee/03/5d15a78ca92ac2bf09f466c54c48bb92979dfe19add2dfed415133ba9792/cmaes-0.6.1-py3-none-any.whl\n",
            "Requirement already satisfied: sqlalchemy>=1.1.0 in /usr/local/lib/python3.6/dist-packages (from optuna->covsirphy) (1.3.19)\n",
            "Collecting colorlog\n",
            "  Downloading https://files.pythonhosted.org/packages/2a/81/12d77537c82c5d46aa2721dfee25a0e873ef5920ebd0827152f411effb57/colorlog-4.2.1-py2.py3-none-any.whl\n",
            "Requirement already satisfied: packaging>=20.0 in /usr/local/lib/python3.6/dist-packages (from optuna->covsirphy) (20.4)\n",
            "Requirement already satisfied: pytz>=2017.2 in /usr/local/lib/python3.6/dist-packages (from pandas->covsirphy) (2018.9)\n",
            "Collecting fsspec>=0.6.0; extra == \"complete\"\n",
            "\u001b[?25l  Downloading https://files.pythonhosted.org/packages/d3/66/974e01194980d9780cc09724315111f9cccba26b4351552fdb4d97eb842e/fsspec-0.8.0-py3-none-any.whl (85kB)\n",
            "\u001b[K     |████████████████████████████████| 92kB 8.7MB/s \n",
            "\u001b[?25hCollecting partd>=0.3.10; extra == \"complete\"\n",
            "  Downloading https://files.pythonhosted.org/packages/44/e1/68dbe731c9c067655bff1eca5b7d40c20ca4b23fd5ec9f3d17e201a6f36b/partd-1.1.0-py3-none-any.whl\n",
            "Requirement already satisfied: PyYaml; extra == \"complete\" in /usr/local/lib/python3.6/dist-packages (from dask[complete]->covsirphy) (3.13)\n",
            "Requirement already satisfied: toolz>=0.7.3; extra == \"complete\" in /usr/local/lib/python3.6/dist-packages (from dask[complete]->covsirphy) (0.10.0)\n",
            "Requirement already satisfied: cloudpickle>=0.2.1; extra == \"complete\" in /usr/local/lib/python3.6/dist-packages (from dask[complete]->covsirphy) (1.3.0)\n",
            "Requirement already satisfied: bokeh>=1.0.0; extra == \"complete\" in /usr/local/lib/python3.6/dist-packages (from dask[complete]->covsirphy) (2.1.1)\n",
            "Collecting distributed>=2.0; extra == \"complete\"\n",
            "\u001b[?25l  Downloading https://files.pythonhosted.org/packages/1c/ce/81c45382fae736dc2b0a56358b117800939f3dab51933782c4c340a772de/distributed-2.25.0-py3-none-any.whl (652kB)\n",
            "\u001b[K     |████████████████████████████████| 655kB 16.9MB/s \n",
            "\u001b[?25hRequirement already satisfied: opencv-python in /usr/local/lib/python3.6/dist-packages (from japanmap->covsirphy) (4.1.2.30)\n",
            "Requirement already satisfied: Pillow in /usr/local/lib/python3.6/dist-packages (from japanmap->covsirphy) (7.0.0)\n",
            "Requirement already satisfied: urllib3!=1.25.0,!=1.25.1,<1.26,>=1.21.1 in /usr/local/lib/python3.6/dist-packages (from requests->covsirphy) (1.24.3)\n",
            "Requirement already satisfied: chardet<4,>=3.0.2 in /usr/local/lib/python3.6/dist-packages (from requests->covsirphy) (3.0.4)\n",
            "Requirement already satisfied: certifi>=2017.4.17 in /usr/local/lib/python3.6/dist-packages (from requests->covsirphy) (2020.6.20)\n",
            "Requirement already satisfied: idna<3,>=2.5 in /usr/local/lib/python3.6/dist-packages (from requests->covsirphy) (2.10)\n",
            "Requirement already satisfied: six in /usr/local/lib/python3.6/dist-packages (from cycler>=0.10->matplotlib->covsirphy) (1.15.0)\n",
            "Collecting stevedore>=2.0.1\n",
            "\u001b[?25l  Downloading https://files.pythonhosted.org/packages/83/58/f80bdd6a86550e48d3766036ea77e5bc63a4b58bd581b8b8ceaa3111b901/stevedore-3.2.1-py3-none-any.whl (42kB)\n",
            "\u001b[K     |████████████████████████████████| 51kB 7.5MB/s \n",
            "\u001b[?25hCollecting cmd2!=0.8.3,>=0.8.0\n",
            "\u001b[?25l  Downloading https://files.pythonhosted.org/packages/22/20/ca2ddf5bb14c460d1b103a75ce51fe9e27c380091a3d532f9adc73922d73/cmd2-1.3.9-py3-none-any.whl (131kB)\n",
            "\u001b[K     |████████████████████████████████| 133kB 19.8MB/s \n",
            "\u001b[?25hCollecting pbr!=2.1.0,>=2.0.0\n",
            "\u001b[?25l  Downloading https://files.pythonhosted.org/packages/c1/a3/d439f338aa90edd5ad9096cd56564b44882182150e92148eb14ceb7488ba/pbr-5.5.0-py2.py3-none-any.whl (106kB)\n",
            "\u001b[K     |████████████████████████████████| 112kB 19.8MB/s \n",
            "\u001b[?25hRequirement already satisfied: PrettyTable<0.8,>=0.7.2 in /usr/local/lib/python3.6/dist-packages (from cliff->optuna->covsirphy) (0.7.2)\n",
            "Collecting Mako\n",
            "\u001b[?25l  Downloading https://files.pythonhosted.org/packages/a6/37/0e706200d22172eb8fa17d68a7ae22dec7631a0a92266634fb518a88a5b2/Mako-1.1.3-py2.py3-none-any.whl (75kB)\n",
            "\u001b[K     |████████████████████████████████| 81kB 8.3MB/s \n",
            "\u001b[?25hCollecting python-editor>=0.3\n",
            "  Downloading https://files.pythonhosted.org/packages/c6/d3/201fc3abe391bbae6606e6f1d598c15d367033332bd54352b12f35513717/python_editor-1.0.4-py3-none-any.whl\n",
            "Collecting locket\n",
            "  Downloading https://files.pythonhosted.org/packages/d0/22/3c0f97614e0be8386542facb3a7dcfc2584f7b83608c02333bced641281c/locket-0.2.0.tar.gz\n",
            "Requirement already satisfied: typing-extensions>=3.7.4 in /usr/local/lib/python3.6/dist-packages (from bokeh>=1.0.0; extra == \"complete\"->dask[complete]->covsirphy) (3.7.4.3)\n",
            "Requirement already satisfied: tornado>=5.1 in /usr/local/lib/python3.6/dist-packages (from bokeh>=1.0.0; extra == \"complete\"->dask[complete]->covsirphy) (5.1.1)\n",
            "Requirement already satisfied: Jinja2>=2.7 in /usr/local/lib/python3.6/dist-packages (from bokeh>=1.0.0; extra == \"complete\"->dask[complete]->covsirphy) (2.11.2)\n",
            "Requirement already satisfied: tblib>=1.6.0 in /usr/local/lib/python3.6/dist-packages (from distributed>=2.0; extra == \"complete\"->dask[complete]->covsirphy) (1.7.0)\n",
            "Requirement already satisfied: setuptools in /usr/local/lib/python3.6/dist-packages (from distributed>=2.0; extra == \"complete\"->dask[complete]->covsirphy) (49.6.0)\n",
            "Requirement already satisfied: psutil>=5.0 in /usr/local/lib/python3.6/dist-packages (from distributed>=2.0; extra == \"complete\"->dask[complete]->covsirphy) (5.4.8)\n",
            "Requirement already satisfied: zict>=0.1.3 in /usr/local/lib/python3.6/dist-packages (from distributed>=2.0; extra == \"complete\"->dask[complete]->covsirphy) (2.0.0)\n",
            "Collecting contextvars; python_version < \"3.7\"\n",
            "  Downloading https://files.pythonhosted.org/packages/83/96/55b82d9f13763be9d672622e1b8106c85acb83edd7cc2fa5bc67cd9877e9/contextvars-2.4.tar.gz\n",
            "Requirement already satisfied: click>=6.6 in /usr/local/lib/python3.6/dist-packages (from distributed>=2.0; extra == \"complete\"->dask[complete]->covsirphy) (7.1.2)\n",
            "Requirement already satisfied: sortedcontainers!=2.0.0,!=2.0.1 in /usr/local/lib/python3.6/dist-packages (from distributed>=2.0; extra == \"complete\"->dask[complete]->covsirphy) (2.2.2)\n",
            "Requirement already satisfied: msgpack>=0.6.0 in /usr/local/lib/python3.6/dist-packages (from distributed>=2.0; extra == \"complete\"->dask[complete]->covsirphy) (1.0.0)\n",
            "Requirement already satisfied: importlib-metadata>=1.7.0; python_version < \"3.8\" in /usr/local/lib/python3.6/dist-packages (from stevedore>=2.0.1->cliff->optuna->covsirphy) (1.7.0)\n",
            "Requirement already satisfied: attrs>=16.3.0 in /usr/local/lib/python3.6/dist-packages (from cmd2!=0.8.3,>=0.8.0->cliff->optuna->covsirphy) (20.1.0)\n",
            "Collecting colorama>=0.3.7\n",
            "  Downloading https://files.pythonhosted.org/packages/c9/dc/45cdef1b4d119eb96316b3117e6d5708a08029992b2fee2c143c7a0a5cc5/colorama-0.4.3-py2.py3-none-any.whl\n",
            "Collecting pyperclip>=1.6\n",
            "  Downloading https://files.pythonhosted.org/packages/f6/5b/55866e1cde0f86f5eec59dab5de8a66628cb0d53da74b8dbc15ad8dabda3/pyperclip-1.8.0.tar.gz\n",
            "Requirement already satisfied: wcwidth>=0.1.7 in /usr/local/lib/python3.6/dist-packages (from cmd2!=0.8.3,>=0.8.0->cliff->optuna->covsirphy) (0.2.5)\n",
            "Requirement already satisfied: MarkupSafe>=0.9.2 in /usr/local/lib/python3.6/dist-packages (from Mako->alembic->optuna->covsirphy) (1.1.1)\n",
            "Requirement already satisfied: heapdict in /usr/local/lib/python3.6/dist-packages (from zict>=0.1.3->distributed>=2.0; extra == \"complete\"->dask[complete]->covsirphy) (1.0.1)\n",
            "Collecting immutables>=0.9\n",
            "\u001b[?25l  Downloading https://files.pythonhosted.org/packages/99/e0/ea6fd4697120327d26773b5a84853f897a68e33d3f9376b00a8ff96e4f63/immutables-0.14-cp36-cp36m-manylinux1_x86_64.whl (98kB)\n",
            "\u001b[K     |████████████████████████████████| 102kB 7.8MB/s \n",
            "\u001b[?25hRequirement already satisfied: zipp>=0.5 in /usr/local/lib/python3.6/dist-packages (from importlib-metadata>=1.7.0; python_version < \"3.8\"->stevedore>=2.0.1->cliff->optuna->covsirphy) (3.1.0)\n",
            "Building wheels for collected packages: optuna, alembic\n",
            "  Building wheel for optuna (PEP 517) ... \u001b[?25l\u001b[?25hdone\n",
            "  Created wheel for optuna: filename=optuna-2.1.0-cp36-none-any.whl size=321090 sha256=716411b024ea634e0741cb3efd6d75a212562eadf25a3e9dbabfa07a2506b0c5\n",
            "  Stored in directory: /root/.cache/pip/wheels/9f/25/24/a165483933b5eefbf4f93c85f3188dc696cbb38620b73ad713\n",
            "  Building wheel for alembic (PEP 517) ... \u001b[?25l\u001b[?25hdone\n",
            "  Created wheel for alembic: filename=alembic-1.4.2-cp36-none-any.whl size=159540 sha256=bd407cfb945098c21bb948a575d9772e4e109c179c3ad4ecce3988580b8c272a\n",
            "  Stored in directory: /root/.cache/pip/wheels/1f/04/83/76023f7a4c14688c0b5c2682a96392cfdd3ee4449eaaa287ef\n",
            "Successfully built optuna alembic\n",
            "Building wheels for collected packages: covsirphy, japanmap, locket, contextvars, pyperclip\n",
            "  Building wheel for covsirphy (setup.py) ... \u001b[?25l\u001b[?25hdone\n",
            "  Created wheel for covsirphy: filename=covsirphy-2.8.1_beta.fix.211.226-cp36-none-any.whl size=92414 sha256=c03874b381d68e21e3a1f29a671cdfca129da91c2ef5d6be37f1f795f73e1b47\n",
            "  Stored in directory: /tmp/pip-ephem-wheel-cache-6uc3hx_7/wheels/c1/38/b8/a724924ef97215b316e76f220d48a49acb5d7432e5f8d06acb\n",
            "  Building wheel for japanmap (setup.py) ... \u001b[?25l\u001b[?25hdone\n",
            "  Created wheel for japanmap: filename=japanmap-0.0.21-cp36-none-any.whl size=166793 sha256=c21cd25767eb71a192d46069b6e22a1cadc8eb36cc44967d6b4bcbe62bca0dc2\n",
            "  Stored in directory: /root/.cache/pip/wheels/a0/7b/2b/331437760ae95113fa973e5ad7af111588ce9c7e76feb14f56\n",
            "  Building wheel for locket (setup.py) ... \u001b[?25l\u001b[?25hdone\n",
            "  Created wheel for locket: filename=locket-0.2.0-cp36-none-any.whl size=4040 sha256=7ad50b6ce7efce2695732fea69f224a1dcd98d5a3af9a511b19d9c3a2803bcea\n",
            "  Stored in directory: /root/.cache/pip/wheels/26/1e/e8/4fa236ec931b1a0cdd61578e20d4934d7bf188858723b84698\n",
            "  Building wheel for contextvars (setup.py) ... \u001b[?25l\u001b[?25hdone\n",
            "  Created wheel for contextvars: filename=contextvars-2.4-cp36-none-any.whl size=7666 sha256=16f4ebf7b6d880f8a6f0018d2cf93b7cc2a4dfff4fd30d5b5e7efd07af2e9246\n",
            "  Stored in directory: /root/.cache/pip/wheels/a5/7d/68/1ebae2668bda2228686e3c1cf16f2c2384cea6e9334ad5f6de\n",
            "  Building wheel for pyperclip (setup.py) ... \u001b[?25l\u001b[?25hdone\n",
            "  Created wheel for pyperclip: filename=pyperclip-1.8.0-cp36-none-any.whl size=8693 sha256=2e35e0d1e9ac40f24c9324547c118ff9da663cbd6e3e0eb5d1922d8530b07673\n",
            "  Stored in directory: /root/.cache/pip/wheels/b2/ac/0a/b784f0afe26eaf52e88a7e15c7369090deea0354fa1c6fc689\n",
            "Successfully built covsirphy japanmap locket contextvars pyperclip\n",
            "\u001b[31mERROR: distributed 2.25.0 has requirement cloudpickle>=1.5.0, but you'll have cloudpickle 1.3.0 which is incompatible.\u001b[0m\n",
            "Installing collected packages: pbr, stevedore, colorama, pyperclip, cmd2, cliff, Mako, python-editor, alembic, cmaes, colorlog, optuna, japanmap, better-exceptions, ruptures, covid19dh, covsirphy, fsspec, locket, partd, immutables, contextvars, distributed\n",
            "  Found existing installation: distributed 1.25.3\n",
            "    Uninstalling distributed-1.25.3:\n",
            "      Successfully uninstalled distributed-1.25.3\n",
            "Successfully installed Mako-1.1.3 alembic-1.4.2 better-exceptions-0.2.2 cliff-3.4.0 cmaes-0.6.1 cmd2-1.3.9 colorama-0.4.3 colorlog-4.2.1 contextvars-2.4 covid19dh-2.0.3 covsirphy-2.8.1-beta.fix.211.226 distributed-2.25.0 fsspec-0.8.0 immutables-0.14 japanmap-0.0.21 locket-0.2.0 optuna-2.1.0 partd-1.1.0 pbr-5.5.0 pyperclip-1.8.0 python-editor-1.0.4 ruptures-1.0.5 stevedore-3.2.1\n"
          ],
          "name": "stdout"
        }
      ]
    },
    {
      "cell_type": "code",
      "metadata": {
        "id": "FHju5yzoiCZn",
        "colab_type": "code",
        "colab": {}
      },
      "source": [
        "import pandas as pd\n",
        "import numpy as np\n",
        "import operator\n",
        "import matplotlib.pyplot as plt\n",
        "import pandas as pd\n",
        "import pandas\n",
        "import datetime\n",
        "import matplotlib.dates as mdates\n",
        "#from helper_fun_model import *\n",
        "from sklearn.linear_model import LinearRegression\n",
        "from sklearn.metrics import mean_absolute_error\n",
        "from sklearn.metrics import mean_squared_error, r2_score\n",
        "from sklearn.preprocessing import PolynomialFeatures\n",
        "\n",
        "\n",
        "import warnings\n",
        "warnings.filterwarnings('ignore')\n",
        "\n",
        "import covsirphy as cs"
      ],
      "execution_count": 61,
      "outputs": []
    },
    {
      "cell_type": "markdown",
      "metadata": {
        "id": "Euz6JQJ0j2zD",
        "colab_type": "text"
      },
      "source": [
        "#Import the Datasets"
      ]
    },
    {
      "cell_type": "code",
      "metadata": {
        "id": "9JDJR58W4j7w",
        "colab_type": "code",
        "colab": {}
      },
      "source": [
        "lockdown = pd.read_csv(\n",
        "     'https://raw.githubusercontent.com/dsfsi/covid19za/master/data/lockdown/covid19za_provincial_cumulative_timeline_lockdown.csv')\n",
        "confirmed = pd.read_csv(\n",
        "    'https://raw.githubusercontent.com/dsfsi/covid19za/master/data/covid19za_provincial_cumulative_timeline_confirmed.csv')\n",
        "recovered = pd.read_csv('https://raw.githubusercontent.com/dsfsi/covid19za/master/data/covid19za_provincial_cumulative_timeline_recoveries.csv')\n",
        "deaths = pd.read_csv(\n",
        "    'https://raw.githubusercontent.com/dsfsi/covid19za/master/data/covid19za_provincial_cumulative_timeline_deaths.csv')\n",
        "transmission = pd.read_csv(\n",
        "    'https://raw.githubusercontent.com/dsfsi/covid19za/master/data/covid19za_timeline_transmission_type.csv')\n",
        "tests = pd.read_csv(\n",
        "    'https://raw.githubusercontent.com/dsfsi/covid19za/master/data/covid19za_provincial_cumulative_timeline_testing.csv')"
      ],
      "execution_count": 68,
      "outputs": []
    },
    {
      "cell_type": "code",
      "metadata": {
        "id": "KNWnknPO_QTK",
        "colab_type": "code",
        "colab": {
          "base_uri": "https://localhost:8080/",
          "height": 406
        },
        "outputId": "acdc125d-6c9a-459f-bab5-6b9dd8f94a42"
      },
      "source": [
        "recovered"
      ],
      "execution_count": 46,
      "outputs": [
        {
          "output_type": "execute_result",
          "data": {
            "text/html": [
              "<div>\n",
              "<style scoped>\n",
              "    .dataframe tbody tr th:only-of-type {\n",
              "        vertical-align: middle;\n",
              "    }\n",
              "\n",
              "    .dataframe tbody tr th {\n",
              "        vertical-align: top;\n",
              "    }\n",
              "\n",
              "    .dataframe thead th {\n",
              "        text-align: right;\n",
              "    }\n",
              "</style>\n",
              "<table border=\"1\" class=\"dataframe\">\n",
              "  <thead>\n",
              "    <tr style=\"text-align: right;\">\n",
              "      <th></th>\n",
              "      <th>date</th>\n",
              "      <th>YYYYMMDD</th>\n",
              "      <th>EC</th>\n",
              "      <th>FS</th>\n",
              "      <th>GP</th>\n",
              "      <th>KZN</th>\n",
              "      <th>LP</th>\n",
              "      <th>MP</th>\n",
              "      <th>NC</th>\n",
              "      <th>NW</th>\n",
              "      <th>WC</th>\n",
              "      <th>UNKNOWN</th>\n",
              "      <th>total</th>\n",
              "      <th>source</th>\n",
              "    </tr>\n",
              "  </thead>\n",
              "  <tbody>\n",
              "    <tr>\n",
              "      <th>0</th>\n",
              "      <td>17-04-2020</td>\n",
              "      <td>20200417</td>\n",
              "      <td>9</td>\n",
              "      <td>71</td>\n",
              "      <td>479</td>\n",
              "      <td>96</td>\n",
              "      <td>18</td>\n",
              "      <td>9</td>\n",
              "      <td>10</td>\n",
              "      <td>6</td>\n",
              "      <td>205</td>\n",
              "      <td>0</td>\n",
              "      <td>903</td>\n",
              "      <td>https://twitter.com/nicd_sa/status/12512151947...</td>\n",
              "    </tr>\n",
              "    <tr>\n",
              "      <th>1</th>\n",
              "      <td>18-04-2020</td>\n",
              "      <td>20200418</td>\n",
              "      <td>9</td>\n",
              "      <td>71</td>\n",
              "      <td>479</td>\n",
              "      <td>96</td>\n",
              "      <td>18</td>\n",
              "      <td>9</td>\n",
              "      <td>10</td>\n",
              "      <td>6</td>\n",
              "      <td>205</td>\n",
              "      <td>0</td>\n",
              "      <td>903</td>\n",
              "      <td>https://twitter.com/nicd_sa/status/12515952235...</td>\n",
              "    </tr>\n",
              "    <tr>\n",
              "      <th>2</th>\n",
              "      <td>19-04-2020</td>\n",
              "      <td>20200419</td>\n",
              "      <td>9</td>\n",
              "      <td>71</td>\n",
              "      <td>479</td>\n",
              "      <td>96</td>\n",
              "      <td>18</td>\n",
              "      <td>9</td>\n",
              "      <td>10</td>\n",
              "      <td>6</td>\n",
              "      <td>205</td>\n",
              "      <td>0</td>\n",
              "      <td>903</td>\n",
              "      <td>https://twitter.com/nicd_sa/status/12519270552...</td>\n",
              "    </tr>\n",
              "    <tr>\n",
              "      <th>3</th>\n",
              "      <td>20-04-2020</td>\n",
              "      <td>20200420</td>\n",
              "      <td>15</td>\n",
              "      <td>74</td>\n",
              "      <td>545</td>\n",
              "      <td>151</td>\n",
              "      <td>21</td>\n",
              "      <td>14</td>\n",
              "      <td>13</td>\n",
              "      <td>6</td>\n",
              "      <td>216</td>\n",
              "      <td>0</td>\n",
              "      <td>1055</td>\n",
              "      <td>https://twitter.com/nicd_sa/status/12523098244...</td>\n",
              "    </tr>\n",
              "    <tr>\n",
              "      <th>4</th>\n",
              "      <td>21-04-2020</td>\n",
              "      <td>20200421</td>\n",
              "      <td>15</td>\n",
              "      <td>74</td>\n",
              "      <td>545</td>\n",
              "      <td>151</td>\n",
              "      <td>21</td>\n",
              "      <td>14</td>\n",
              "      <td>13</td>\n",
              "      <td>6</td>\n",
              "      <td>216</td>\n",
              "      <td>0</td>\n",
              "      <td>1055</td>\n",
              "      <td>https://twitter.com/nicd_sa/status/12526435556...</td>\n",
              "    </tr>\n",
              "    <tr>\n",
              "      <th>...</th>\n",
              "      <td>...</td>\n",
              "      <td>...</td>\n",
              "      <td>...</td>\n",
              "      <td>...</td>\n",
              "      <td>...</td>\n",
              "      <td>...</td>\n",
              "      <td>...</td>\n",
              "      <td>...</td>\n",
              "      <td>...</td>\n",
              "      <td>...</td>\n",
              "      <td>...</td>\n",
              "      <td>...</td>\n",
              "      <td>...</td>\n",
              "      <td>...</td>\n",
              "    </tr>\n",
              "    <tr>\n",
              "      <th>132</th>\n",
              "      <td>02-09-2020</td>\n",
              "      <td>20200902</td>\n",
              "      <td>82233</td>\n",
              "      <td>25999</td>\n",
              "      <td>184274</td>\n",
              "      <td>100605</td>\n",
              "      <td>12486</td>\n",
              "      <td>23004</td>\n",
              "      <td>7420</td>\n",
              "      <td>19388</td>\n",
              "      <td>98047</td>\n",
              "      <td>0</td>\n",
              "      <td>553456</td>\n",
              "      <td>https://twitter.com/nicd_sa/status/13012465363...</td>\n",
              "    </tr>\n",
              "    <tr>\n",
              "      <th>133</th>\n",
              "      <td>03-09-2020</td>\n",
              "      <td>20200903</td>\n",
              "      <td>82233</td>\n",
              "      <td>26056</td>\n",
              "      <td>184538</td>\n",
              "      <td>100766</td>\n",
              "      <td>12647</td>\n",
              "      <td>23046</td>\n",
              "      <td>7526</td>\n",
              "      <td>20028</td>\n",
              "      <td>98047</td>\n",
              "      <td>0</td>\n",
              "      <td>554887</td>\n",
              "      <td>https://twitter.com/nicd_sa/status/13016021023...</td>\n",
              "    </tr>\n",
              "    <tr>\n",
              "      <th>134</th>\n",
              "      <td>04-09-2020</td>\n",
              "      <td>20200904</td>\n",
              "      <td>82233</td>\n",
              "      <td>27129</td>\n",
              "      <td>185192</td>\n",
              "      <td>101034</td>\n",
              "      <td>12647</td>\n",
              "      <td>23315</td>\n",
              "      <td>7551</td>\n",
              "      <td>20028</td>\n",
              "      <td>98689</td>\n",
              "      <td>0</td>\n",
              "      <td>557818</td>\n",
              "      <td>https://twitter.com/nicd_sa/status/13019655662...</td>\n",
              "    </tr>\n",
              "    <tr>\n",
              "      <th>135</th>\n",
              "      <td>05-09-2020</td>\n",
              "      <td>20200905</td>\n",
              "      <td>82233</td>\n",
              "      <td>27129</td>\n",
              "      <td>186731</td>\n",
              "      <td>101797</td>\n",
              "      <td>12702</td>\n",
              "      <td>23475</td>\n",
              "      <td>7573</td>\n",
              "      <td>20554</td>\n",
              "      <td>99010</td>\n",
              "      <td>0</td>\n",
              "      <td>561204</td>\n",
              "      <td>https://twitter.com/nicd_sa/status/13023151403...</td>\n",
              "    </tr>\n",
              "    <tr>\n",
              "      <th>136</th>\n",
              "      <td>06-09-2020</td>\n",
              "      <td>20200906</td>\n",
              "      <td>82233</td>\n",
              "      <td>27129</td>\n",
              "      <td>187301</td>\n",
              "      <td>101989</td>\n",
              "      <td>12782</td>\n",
              "      <td>23610</td>\n",
              "      <td>8717</td>\n",
              "      <td>21033</td>\n",
              "      <td>99097</td>\n",
              "      <td>0</td>\n",
              "      <td>563891</td>\n",
              "      <td>https://twitter.com/nicd_sa/status/13026906284...</td>\n",
              "    </tr>\n",
              "  </tbody>\n",
              "</table>\n",
              "<p>137 rows × 14 columns</p>\n",
              "</div>"
            ],
            "text/plain": [
              "           date  ...                                             source\n",
              "0    17-04-2020  ...  https://twitter.com/nicd_sa/status/12512151947...\n",
              "1    18-04-2020  ...  https://twitter.com/nicd_sa/status/12515952235...\n",
              "2    19-04-2020  ...  https://twitter.com/nicd_sa/status/12519270552...\n",
              "3    20-04-2020  ...  https://twitter.com/nicd_sa/status/12523098244...\n",
              "4    21-04-2020  ...  https://twitter.com/nicd_sa/status/12526435556...\n",
              "..          ...  ...                                                ...\n",
              "132  02-09-2020  ...  https://twitter.com/nicd_sa/status/13012465363...\n",
              "133  03-09-2020  ...  https://twitter.com/nicd_sa/status/13016021023...\n",
              "134  04-09-2020  ...  https://twitter.com/nicd_sa/status/13019655662...\n",
              "135  05-09-2020  ...  https://twitter.com/nicd_sa/status/13023151403...\n",
              "136  06-09-2020  ...  https://twitter.com/nicd_sa/status/13026906284...\n",
              "\n",
              "[137 rows x 14 columns]"
            ]
          },
          "metadata": {
            "tags": []
          },
          "execution_count": 46
        }
      ]
    },
    {
      "cell_type": "markdown",
      "metadata": {
        "id": "vgizGaqujwZ_",
        "colab_type": "text"
      },
      "source": [
        "#Exploring The Data"
      ]
    },
    {
      "cell_type": "code",
      "metadata": {
        "id": "-myAEslN5sQ1",
        "colab_type": "code",
        "colab": {
          "base_uri": "https://localhost:8080/",
          "height": 354
        },
        "outputId": "d8d1cd3f-399b-443d-8771-43e66b800643"
      },
      "source": [
        "lockdown.info()"
      ],
      "execution_count": 34,
      "outputs": [
        {
          "output_type": "stream",
          "text": [
            "<class 'pandas.core.frame.DataFrame'>\n",
            "RangeIndex: 3 entries, 0 to 2\n",
            "Data columns (total 12 columns):\n",
            " #   Column    Non-Null Count  Dtype \n",
            "---  ------    --------------  ----- \n",
            " 0   date      3 non-null      object\n",
            " 1   YYYYMMDD  3 non-null      int64 \n",
            " 2   EC        3 non-null      int64 \n",
            " 3   FS        3 non-null      int64 \n",
            " 4   GP        3 non-null      int64 \n",
            " 5   KZN       3 non-null      int64 \n",
            " 6   LP        3 non-null      int64 \n",
            " 7   MP        3 non-null      int64 \n",
            " 8   NC        3 non-null      int64 \n",
            " 9   NW        3 non-null      int64 \n",
            " 10  WC        3 non-null      int64 \n",
            " 11  source    3 non-null      object\n",
            "dtypes: int64(10), object(2)\n",
            "memory usage: 416.0+ bytes\n"
          ],
          "name": "stdout"
        }
      ]
    },
    {
      "cell_type": "code",
      "metadata": {
        "id": "FHj3ymrO40pM",
        "colab_type": "code",
        "colab": {
          "base_uri": "https://localhost:8080/",
          "height": 390
        },
        "outputId": "dd835957-6b90-4d40-c674-d3aed92f7ff5"
      },
      "source": [
        "confirmed.info()"
      ],
      "execution_count": 7,
      "outputs": [
        {
          "output_type": "stream",
          "text": [
            "<class 'pandas.core.frame.DataFrame'>\n",
            "RangeIndex: 184 entries, 0 to 183\n",
            "Data columns (total 14 columns):\n",
            " #   Column    Non-Null Count  Dtype  \n",
            "---  ------    --------------  -----  \n",
            " 0   date      184 non-null    object \n",
            " 1   YYYYMMDD  184 non-null    int64  \n",
            " 2   EC        182 non-null    float64\n",
            " 3   FS        182 non-null    float64\n",
            " 4   GP        182 non-null    float64\n",
            " 5   KZN       182 non-null    float64\n",
            " 6   LP        182 non-null    float64\n",
            " 7   MP        182 non-null    float64\n",
            " 8   NC        182 non-null    float64\n",
            " 9   NW        182 non-null    float64\n",
            " 10  WC        182 non-null    float64\n",
            " 11  UNKNOWN   182 non-null    float64\n",
            " 12  total     184 non-null    int64  \n",
            " 13  source    139 non-null    object \n",
            "dtypes: float64(10), int64(2), object(2)\n",
            "memory usage: 20.2+ KB\n"
          ],
          "name": "stdout"
        }
      ]
    },
    {
      "cell_type": "code",
      "metadata": {
        "id": "sS58CI_1AF3j",
        "colab_type": "code",
        "colab": {
          "base_uri": "https://localhost:8080/",
          "height": 390
        },
        "outputId": "4e83728e-2423-479c-bf1b-4ab8f5adb26a"
      },
      "source": [
        "recovered.info()"
      ],
      "execution_count": 8,
      "outputs": [
        {
          "output_type": "stream",
          "text": [
            "<class 'pandas.core.frame.DataFrame'>\n",
            "RangeIndex: 137 entries, 0 to 136\n",
            "Data columns (total 14 columns):\n",
            " #   Column    Non-Null Count  Dtype \n",
            "---  ------    --------------  ----- \n",
            " 0   date      137 non-null    object\n",
            " 1   YYYYMMDD  137 non-null    int64 \n",
            " 2   EC        137 non-null    int64 \n",
            " 3   FS        137 non-null    int64 \n",
            " 4   GP        137 non-null    int64 \n",
            " 5   KZN       137 non-null    int64 \n",
            " 6   LP        137 non-null    int64 \n",
            " 7   MP        137 non-null    int64 \n",
            " 8   NC        137 non-null    int64 \n",
            " 9   NW        137 non-null    int64 \n",
            " 10  WC        137 non-null    int64 \n",
            " 11  UNKNOWN   137 non-null    int64 \n",
            " 12  total     137 non-null    int64 \n",
            " 13  source    137 non-null    object\n",
            "dtypes: int64(12), object(2)\n",
            "memory usage: 15.1+ KB\n"
          ],
          "name": "stdout"
        }
      ]
    },
    {
      "cell_type": "code",
      "metadata": {
        "id": "toYwB9crATFQ",
        "colab_type": "code",
        "colab": {
          "base_uri": "https://localhost:8080/",
          "height": 230
        },
        "outputId": "9315e7da-6df1-43f5-f470-a9f89d311c95"
      },
      "source": [
        "transmission.info()"
      ],
      "execution_count": 9,
      "outputs": [
        {
          "output_type": "stream",
          "text": [
            "<class 'pandas.core.frame.DataFrame'>\n",
            "RangeIndex: 709 entries, 0 to 708\n",
            "Data columns (total 5 columns):\n",
            " #   Column             Non-Null Count  Dtype \n",
            "---  ------             --------------  ----- \n",
            " 0   case_id            709 non-null    int64 \n",
            " 1   transmission_type  274 non-null    object\n",
            " 2   type               709 non-null    object\n",
            " 3   countries          129 non-null    object\n",
            " 4   Unnamed: 4         16 non-null     object\n",
            "dtypes: int64(1), object(4)\n",
            "memory usage: 27.8+ KB\n"
          ],
          "name": "stdout"
        }
      ]
    },
    {
      "cell_type": "code",
      "metadata": {
        "id": "6a7sex1vIi6k",
        "colab_type": "code",
        "colab": {
          "base_uri": "https://localhost:8080/",
          "height": 390
        },
        "outputId": "8227e92a-19a1-4f8a-f0b9-d3496a70e32a"
      },
      "source": [
        "deaths.info()"
      ],
      "execution_count": 10,
      "outputs": [
        {
          "output_type": "stream",
          "text": [
            "<class 'pandas.core.frame.DataFrame'>\n",
            "RangeIndex: 160 entries, 0 to 159\n",
            "Data columns (total 14 columns):\n",
            " #   Column    Non-Null Count  Dtype \n",
            "---  ------    --------------  ----- \n",
            " 0   date      160 non-null    object\n",
            " 1   YYYYMMDD  160 non-null    int64 \n",
            " 2   EC        160 non-null    int64 \n",
            " 3   FS        160 non-null    int64 \n",
            " 4   GP        160 non-null    int64 \n",
            " 5   KZN       160 non-null    int64 \n",
            " 6   LP        160 non-null    int64 \n",
            " 7   MP        160 non-null    int64 \n",
            " 8   NC        160 non-null    int64 \n",
            " 9   NW        160 non-null    int64 \n",
            " 10  WC        160 non-null    int64 \n",
            " 11  UNKNOWN   160 non-null    int64 \n",
            " 12  total     160 non-null    int64 \n",
            " 13  source    153 non-null    object\n",
            "dtypes: int64(12), object(2)\n",
            "memory usage: 17.6+ KB\n"
          ],
          "name": "stdout"
        }
      ]
    },
    {
      "cell_type": "code",
      "metadata": {
        "id": "rJFhuRSC0CH4",
        "colab_type": "code",
        "colab": {
          "base_uri": "https://localhost:8080/",
          "height": 390
        },
        "outputId": "43bcce82-d755-477a-d73d-6e5661f32d55"
      },
      "source": [
        "tests.info()"
      ],
      "execution_count": 11,
      "outputs": [
        {
          "output_type": "stream",
          "text": [
            "<class 'pandas.core.frame.DataFrame'>\n",
            "RangeIndex: 6 entries, 0 to 5\n",
            "Data columns (total 14 columns):\n",
            " #   Column    Non-Null Count  Dtype \n",
            "---  ------    --------------  ----- \n",
            " 0   date      6 non-null      object\n",
            " 1   YYYYMMDD  6 non-null      int64 \n",
            " 2   EC        6 non-null      int64 \n",
            " 3   FS        6 non-null      int64 \n",
            " 4   GP        6 non-null      int64 \n",
            " 5   KZN       6 non-null      int64 \n",
            " 6   LP        6 non-null      int64 \n",
            " 7   MP        6 non-null      int64 \n",
            " 8   NC        6 non-null      int64 \n",
            " 9   NW        6 non-null      int64 \n",
            " 10  WC        6 non-null      int64 \n",
            " 11  UNKNOWN   6 non-null      int64 \n",
            " 12  total     6 non-null      int64 \n",
            " 13  source    6 non-null      object\n",
            "dtypes: int64(12), object(2)\n",
            "memory usage: 800.0+ bytes\n"
          ],
          "name": "stdout"
        }
      ]
    },
    {
      "cell_type": "code",
      "metadata": {
        "id": "kUXZ5tMpyFLm",
        "colab_type": "code",
        "colab": {
          "base_uri": "https://localhost:8080/",
          "height": 197
        },
        "outputId": "8fc11581-aa28-449d-be1d-5c5766f74764"
      },
      "source": [
        "tests.head()\n"
      ],
      "execution_count": 30,
      "outputs": [
        {
          "output_type": "execute_result",
          "data": {
            "text/html": [
              "<div>\n",
              "<style scoped>\n",
              "    .dataframe tbody tr th:only-of-type {\n",
              "        vertical-align: middle;\n",
              "    }\n",
              "\n",
              "    .dataframe tbody tr th {\n",
              "        vertical-align: top;\n",
              "    }\n",
              "\n",
              "    .dataframe thead th {\n",
              "        text-align: right;\n",
              "    }\n",
              "</style>\n",
              "<table border=\"1\" class=\"dataframe\">\n",
              "  <thead>\n",
              "    <tr style=\"text-align: right;\">\n",
              "      <th></th>\n",
              "      <th>date</th>\n",
              "      <th>YYYYMMDD</th>\n",
              "      <th>EC</th>\n",
              "      <th>FS</th>\n",
              "      <th>GP</th>\n",
              "      <th>KZN</th>\n",
              "      <th>LP</th>\n",
              "      <th>MP</th>\n",
              "      <th>NC</th>\n",
              "      <th>NW</th>\n",
              "      <th>WC</th>\n",
              "      <th>UNKNOWN</th>\n",
              "      <th>total</th>\n",
              "      <th>source</th>\n",
              "    </tr>\n",
              "  </thead>\n",
              "  <tbody>\n",
              "    <tr>\n",
              "      <th>0</th>\n",
              "      <td>27-04-2020</td>\n",
              "      <td>20200427</td>\n",
              "      <td>14054</td>\n",
              "      <td>6317</td>\n",
              "      <td>61830</td>\n",
              "      <td>28265</td>\n",
              "      <td>3691</td>\n",
              "      <td>4385</td>\n",
              "      <td>1314</td>\n",
              "      <td>2544</td>\n",
              "      <td>33335</td>\n",
              "      <td>12908</td>\n",
              "      <td>168643</td>\n",
              "      <td>ministerial briefing 26-04-2020</td>\n",
              "    </tr>\n",
              "    <tr>\n",
              "      <th>1</th>\n",
              "      <td>03-05-2020</td>\n",
              "      <td>20200503</td>\n",
              "      <td>24835</td>\n",
              "      <td>12634</td>\n",
              "      <td>85134</td>\n",
              "      <td>45955</td>\n",
              "      <td>5626</td>\n",
              "      <td>6691</td>\n",
              "      <td>1951</td>\n",
              "      <td>3565</td>\n",
              "      <td>53967</td>\n",
              "      <td>17183</td>\n",
              "      <td>257541</td>\n",
              "      <td>https://www.nicd.ac.za/wp-content/uploads/2020...</td>\n",
              "    </tr>\n",
              "    <tr>\n",
              "      <th>2</th>\n",
              "      <td>09-05-2020</td>\n",
              "      <td>20200509</td>\n",
              "      <td>34032</td>\n",
              "      <td>17231</td>\n",
              "      <td>111630</td>\n",
              "      <td>61801</td>\n",
              "      <td>7783</td>\n",
              "      <td>9823</td>\n",
              "      <td>3092</td>\n",
              "      <td>5213</td>\n",
              "      <td>70038</td>\n",
              "      <td>20693</td>\n",
              "      <td>341336</td>\n",
              "      <td>https://www.nicd.ac.za/wp-content/uploads/2020...</td>\n",
              "    </tr>\n",
              "    <tr>\n",
              "      <th>3</th>\n",
              "      <td>13-05-2020</td>\n",
              "      <td>20200513</td>\n",
              "      <td>38122</td>\n",
              "      <td>19265</td>\n",
              "      <td>127030</td>\n",
              "      <td>67853</td>\n",
              "      <td>8239</td>\n",
              "      <td>11414</td>\n",
              "      <td>3683</td>\n",
              "      <td>5812</td>\n",
              "      <td>82865</td>\n",
              "      <td>22069</td>\n",
              "      <td>386352</td>\n",
              "      <td>https://twitter.com/bandilemasuku/status/12609...</td>\n",
              "    </tr>\n",
              "    <tr>\n",
              "      <th>4</th>\n",
              "      <td>20-05-2020</td>\n",
              "      <td>20200520</td>\n",
              "      <td>51888</td>\n",
              "      <td>24415</td>\n",
              "      <td>166394</td>\n",
              "      <td>86448</td>\n",
              "      <td>10579</td>\n",
              "      <td>14964</td>\n",
              "      <td>4776</td>\n",
              "      <td>8830</td>\n",
              "      <td>112612</td>\n",
              "      <td>25955</td>\n",
              "      <td>506681</td>\n",
              "      <td>https://twitter.com/GautengProvince/status/126...</td>\n",
              "    </tr>\n",
              "  </tbody>\n",
              "</table>\n",
              "</div>"
            ],
            "text/plain": [
              "         date  ...                                             source\n",
              "0  27-04-2020  ...                    ministerial briefing 26-04-2020\n",
              "1  03-05-2020  ...  https://www.nicd.ac.za/wp-content/uploads/2020...\n",
              "2  09-05-2020  ...  https://www.nicd.ac.za/wp-content/uploads/2020...\n",
              "3  13-05-2020  ...  https://twitter.com/bandilemasuku/status/12609...\n",
              "4  20-05-2020  ...  https://twitter.com/GautengProvince/status/126...\n",
              "\n",
              "[5 rows x 14 columns]"
            ]
          },
          "metadata": {
            "tags": []
          },
          "execution_count": 30
        }
      ]
    },
    {
      "cell_type": "markdown",
      "metadata": {
        "id": "HWSWSBLLkzcy",
        "colab_type": "text"
      },
      "source": [
        "##Cleaning and Preprocessing"
      ]
    },
    {
      "cell_type": "code",
      "metadata": {
        "id": "PuDvVdNI-YNa",
        "colab_type": "code",
        "colab": {
          "base_uri": "https://localhost:8080/",
          "height": 35
        },
        "outputId": "5af1b79e-6700-401d-d461-f1db842bf215"
      },
      "source": [
        "import covsirphy as cs\n",
        "cs.get_version()"
      ],
      "execution_count": 14,
      "outputs": [
        {
          "output_type": "execute_result",
          "data": {
            "application/vnd.google.colaboratory.intrinsic+json": {
              "type": "string"
            },
            "text/plain": [
              "'CovsirPhy v2.8.1-beta.fix.211.226'"
            ]
          },
          "metadata": {
            "tags": []
          },
          "execution_count": 14
        }
      ]
    },
    {
      "cell_type": "code",
      "metadata": {
        "id": "QwRos33x4TzO",
        "colab_type": "code",
        "colab": {}
      },
      "source": [
        "\n",
        "confirmed['date'] = pd.to_datetime(confirmed['date'], format='%d-%m-%Y')\n",
        "confirmed = confirmed.rename(columns={'total': 'confirmed'})\n",
        "tests = tests.rename(columns={'total': 'num_tests'})\n",
        "recovered = recovered.rename(columns={'total': 'recovered'})\n",
        "deaths = deaths.rename(columns={'total': 'deaths'})"
      ],
      "execution_count": 69,
      "outputs": []
    },
    {
      "cell_type": "code",
      "metadata": {
        "id": "0pzliMbw5Ecq",
        "colab_type": "code",
        "colab": {}
      },
      "source": [
        "dataset = pd.concat([confirmed['date'],tests['num_tests'] ,confirmed['confirmed'],\n",
        "                         recovered['recovered'], deaths['deaths']], axis=1)\n"
      ],
      "execution_count": 70,
      "outputs": []
    },
    {
      "cell_type": "code",
      "metadata": {
        "id": "3bxjH2-j6lb8",
        "colab_type": "code",
        "colab": {
          "base_uri": "https://localhost:8080/",
          "height": 406
        },
        "outputId": "83ddd9b5-672c-4a39-85d2-cda8a6b9162d"
      },
      "source": [
        "dataset"
      ],
      "execution_count": 71,
      "outputs": [
        {
          "output_type": "execute_result",
          "data": {
            "text/html": [
              "<div>\n",
              "<style scoped>\n",
              "    .dataframe tbody tr th:only-of-type {\n",
              "        vertical-align: middle;\n",
              "    }\n",
              "\n",
              "    .dataframe tbody tr th {\n",
              "        vertical-align: top;\n",
              "    }\n",
              "\n",
              "    .dataframe thead th {\n",
              "        text-align: right;\n",
              "    }\n",
              "</style>\n",
              "<table border=\"1\" class=\"dataframe\">\n",
              "  <thead>\n",
              "    <tr style=\"text-align: right;\">\n",
              "      <th></th>\n",
              "      <th>date</th>\n",
              "      <th>num_tests</th>\n",
              "      <th>confirmed</th>\n",
              "      <th>recovered</th>\n",
              "      <th>deaths</th>\n",
              "    </tr>\n",
              "  </thead>\n",
              "  <tbody>\n",
              "    <tr>\n",
              "      <th>0</th>\n",
              "      <td>2020-03-05</td>\n",
              "      <td>168643.0</td>\n",
              "      <td>1</td>\n",
              "      <td>903.0</td>\n",
              "      <td>1.0</td>\n",
              "    </tr>\n",
              "    <tr>\n",
              "      <th>1</th>\n",
              "      <td>2020-03-07</td>\n",
              "      <td>257541.0</td>\n",
              "      <td>2</td>\n",
              "      <td>903.0</td>\n",
              "      <td>2.0</td>\n",
              "    </tr>\n",
              "    <tr>\n",
              "      <th>2</th>\n",
              "      <td>2020-03-08</td>\n",
              "      <td>341336.0</td>\n",
              "      <td>3</td>\n",
              "      <td>903.0</td>\n",
              "      <td>3.0</td>\n",
              "    </tr>\n",
              "    <tr>\n",
              "      <th>3</th>\n",
              "      <td>2020-03-09</td>\n",
              "      <td>386352.0</td>\n",
              "      <td>7</td>\n",
              "      <td>1055.0</td>\n",
              "      <td>5.0</td>\n",
              "    </tr>\n",
              "    <tr>\n",
              "      <th>4</th>\n",
              "      <td>2020-03-11</td>\n",
              "      <td>506681.0</td>\n",
              "      <td>13</td>\n",
              "      <td>1055.0</td>\n",
              "      <td>9.0</td>\n",
              "    </tr>\n",
              "    <tr>\n",
              "      <th>...</th>\n",
              "      <td>...</td>\n",
              "      <td>...</td>\n",
              "      <td>...</td>\n",
              "      <td>...</td>\n",
              "      <td>...</td>\n",
              "    </tr>\n",
              "    <tr>\n",
              "      <th>179</th>\n",
              "      <td>2020-09-02</td>\n",
              "      <td>NaN</td>\n",
              "      <td>630595</td>\n",
              "      <td>NaN</td>\n",
              "      <td>NaN</td>\n",
              "    </tr>\n",
              "    <tr>\n",
              "      <th>180</th>\n",
              "      <td>2020-09-03</td>\n",
              "      <td>NaN</td>\n",
              "      <td>633015</td>\n",
              "      <td>NaN</td>\n",
              "      <td>NaN</td>\n",
              "    </tr>\n",
              "    <tr>\n",
              "      <th>181</th>\n",
              "      <td>2020-09-04</td>\n",
              "      <td>NaN</td>\n",
              "      <td>635078</td>\n",
              "      <td>NaN</td>\n",
              "      <td>NaN</td>\n",
              "    </tr>\n",
              "    <tr>\n",
              "      <th>182</th>\n",
              "      <td>2020-09-05</td>\n",
              "      <td>NaN</td>\n",
              "      <td>636884</td>\n",
              "      <td>NaN</td>\n",
              "      <td>NaN</td>\n",
              "    </tr>\n",
              "    <tr>\n",
              "      <th>183</th>\n",
              "      <td>2020-09-06</td>\n",
              "      <td>NaN</td>\n",
              "      <td>638517</td>\n",
              "      <td>NaN</td>\n",
              "      <td>NaN</td>\n",
              "    </tr>\n",
              "  </tbody>\n",
              "</table>\n",
              "<p>184 rows × 5 columns</p>\n",
              "</div>"
            ],
            "text/plain": [
              "          date  num_tests  confirmed  recovered  deaths\n",
              "0   2020-03-05   168643.0          1      903.0     1.0\n",
              "1   2020-03-07   257541.0          2      903.0     2.0\n",
              "2   2020-03-08   341336.0          3      903.0     3.0\n",
              "3   2020-03-09   386352.0          7     1055.0     5.0\n",
              "4   2020-03-11   506681.0         13     1055.0     9.0\n",
              "..         ...        ...        ...        ...     ...\n",
              "179 2020-09-02        NaN     630595        NaN     NaN\n",
              "180 2020-09-03        NaN     633015        NaN     NaN\n",
              "181 2020-09-04        NaN     635078        NaN     NaN\n",
              "182 2020-09-05        NaN     636884        NaN     NaN\n",
              "183 2020-09-06        NaN     638517        NaN     NaN\n",
              "\n",
              "[184 rows x 5 columns]"
            ]
          },
          "metadata": {
            "tags": []
          },
          "execution_count": 71
        }
      ]
    },
    {
      "cell_type": "code",
      "metadata": {
        "id": "Er8jDVSxlAz-",
        "colab_type": "code",
        "colab": {}
      },
      "source": [
        "# shift rows down so that dates correspond\n",
        "dataset['num_tests'] = dataset['num_tests'].shift(52)\n",
        "dataset['recovered'] = dataset['recovered'].shift(42)\n",
        "dataset['deaths'] = dataset['deaths'].shift(20)\n"
      ],
      "execution_count": 72,
      "outputs": []
    },
    {
      "cell_type": "code",
      "metadata": {
        "id": "BG7EyQrVlArX",
        "colab_type": "code",
        "colab": {
          "base_uri": "https://localhost:8080/",
          "height": 347
        },
        "outputId": "5ffde889-241b-4538-f694-002955fb8627"
      },
      "source": [
        "dataset.tail(10)"
      ],
      "execution_count": 199,
      "outputs": [
        {
          "output_type": "execute_result",
          "data": {
            "text/html": [
              "<div>\n",
              "<style scoped>\n",
              "    .dataframe tbody tr th:only-of-type {\n",
              "        vertical-align: middle;\n",
              "    }\n",
              "\n",
              "    .dataframe tbody tr th {\n",
              "        vertical-align: top;\n",
              "    }\n",
              "\n",
              "    .dataframe thead th {\n",
              "        text-align: right;\n",
              "    }\n",
              "</style>\n",
              "<table border=\"1\" class=\"dataframe\">\n",
              "  <thead>\n",
              "    <tr style=\"text-align: right;\">\n",
              "      <th></th>\n",
              "      <th>date</th>\n",
              "      <th>num_tests</th>\n",
              "      <th>confirmed</th>\n",
              "      <th>recovered</th>\n",
              "      <th>deaths</th>\n",
              "      <th>Active_cases</th>\n",
              "      <th>recovered_per_confirmed</th>\n",
              "      <th>death_per_confirmed</th>\n",
              "    </tr>\n",
              "  </thead>\n",
              "  <tbody>\n",
              "    <tr>\n",
              "      <th>174</th>\n",
              "      <td>2020-08-28</td>\n",
              "      <td>0.0</td>\n",
              "      <td>620123</td>\n",
              "      <td>553456.0</td>\n",
              "      <td>14263.0</td>\n",
              "      <td>52404.0</td>\n",
              "      <td>0.892494</td>\n",
              "      <td>0.023000</td>\n",
              "    </tr>\n",
              "    <tr>\n",
              "      <th>175</th>\n",
              "      <td>2020-08-29</td>\n",
              "      <td>0.0</td>\n",
              "      <td>622551</td>\n",
              "      <td>554887.0</td>\n",
              "      <td>14389.0</td>\n",
              "      <td>53275.0</td>\n",
              "      <td>0.891312</td>\n",
              "      <td>0.023113</td>\n",
              "    </tr>\n",
              "    <tr>\n",
              "      <th>176</th>\n",
              "      <td>2020-08-30</td>\n",
              "      <td>0.0</td>\n",
              "      <td>625056</td>\n",
              "      <td>557818.0</td>\n",
              "      <td>14563.0</td>\n",
              "      <td>52675.0</td>\n",
              "      <td>0.892429</td>\n",
              "      <td>0.023299</td>\n",
              "    </tr>\n",
              "    <tr>\n",
              "      <th>177</th>\n",
              "      <td>2020-08-31</td>\n",
              "      <td>0.0</td>\n",
              "      <td>627041</td>\n",
              "      <td>561204.0</td>\n",
              "      <td>14678.0</td>\n",
              "      <td>51159.0</td>\n",
              "      <td>0.895004</td>\n",
              "      <td>0.023408</td>\n",
              "    </tr>\n",
              "    <tr>\n",
              "      <th>178</th>\n",
              "      <td>2020-09-01</td>\n",
              "      <td>0.0</td>\n",
              "      <td>628259</td>\n",
              "      <td>563891.0</td>\n",
              "      <td>14779.0</td>\n",
              "      <td>49589.0</td>\n",
              "      <td>0.897545</td>\n",
              "      <td>0.023524</td>\n",
              "    </tr>\n",
              "    <tr>\n",
              "      <th>179</th>\n",
              "      <td>2020-09-02</td>\n",
              "      <td>0.0</td>\n",
              "      <td>630595</td>\n",
              "      <td>0.0</td>\n",
              "      <td>14889.0</td>\n",
              "      <td>615706.0</td>\n",
              "      <td>0.000000</td>\n",
              "      <td>0.023611</td>\n",
              "    </tr>\n",
              "    <tr>\n",
              "      <th>180</th>\n",
              "      <td>2020-09-03</td>\n",
              "      <td>0.0</td>\n",
              "      <td>633015</td>\n",
              "      <td>0.0</td>\n",
              "      <td>0.0</td>\n",
              "      <td>633015.0</td>\n",
              "      <td>0.000000</td>\n",
              "      <td>0.000000</td>\n",
              "    </tr>\n",
              "    <tr>\n",
              "      <th>181</th>\n",
              "      <td>2020-09-04</td>\n",
              "      <td>0.0</td>\n",
              "      <td>635078</td>\n",
              "      <td>0.0</td>\n",
              "      <td>0.0</td>\n",
              "      <td>635078.0</td>\n",
              "      <td>0.000000</td>\n",
              "      <td>0.000000</td>\n",
              "    </tr>\n",
              "    <tr>\n",
              "      <th>182</th>\n",
              "      <td>2020-09-05</td>\n",
              "      <td>0.0</td>\n",
              "      <td>636884</td>\n",
              "      <td>0.0</td>\n",
              "      <td>0.0</td>\n",
              "      <td>636884.0</td>\n",
              "      <td>0.000000</td>\n",
              "      <td>0.000000</td>\n",
              "    </tr>\n",
              "    <tr>\n",
              "      <th>183</th>\n",
              "      <td>2020-09-06</td>\n",
              "      <td>0.0</td>\n",
              "      <td>638517</td>\n",
              "      <td>0.0</td>\n",
              "      <td>0.0</td>\n",
              "      <td>638517.0</td>\n",
              "      <td>0.000000</td>\n",
              "      <td>0.000000</td>\n",
              "    </tr>\n",
              "  </tbody>\n",
              "</table>\n",
              "</div>"
            ],
            "text/plain": [
              "          date  num_tests  ...  recovered_per_confirmed  death_per_confirmed\n",
              "174 2020-08-28        0.0  ...                 0.892494             0.023000\n",
              "175 2020-08-29        0.0  ...                 0.891312             0.023113\n",
              "176 2020-08-30        0.0  ...                 0.892429             0.023299\n",
              "177 2020-08-31        0.0  ...                 0.895004             0.023408\n",
              "178 2020-09-01        0.0  ...                 0.897545             0.023524\n",
              "179 2020-09-02        0.0  ...                 0.000000             0.023611\n",
              "180 2020-09-03        0.0  ...                 0.000000             0.000000\n",
              "181 2020-09-04        0.0  ...                 0.000000             0.000000\n",
              "182 2020-09-05        0.0  ...                 0.000000             0.000000\n",
              "183 2020-09-06        0.0  ...                 0.000000             0.000000\n",
              "\n",
              "[10 rows x 8 columns]"
            ]
          },
          "metadata": {
            "tags": []
          },
          "execution_count": 199
        }
      ]
    },
    {
      "cell_type": "code",
      "metadata": {
        "id": "0_C_r57dsOXy",
        "colab_type": "code",
        "colab": {}
      },
      "source": [
        "dataset = dataset.fillna(0)"
      ],
      "execution_count": 74,
      "outputs": []
    },
    {
      "cell_type": "code",
      "metadata": {
        "id": "6YoinsUsx2o7",
        "colab_type": "code",
        "colab": {
          "base_uri": "https://localhost:8080/",
          "height": 137
        },
        "outputId": "fefe5622-abe3-4dda-fb23-bbaafffd8996"
      },
      "source": [
        "dataset.head(3)"
      ],
      "execution_count": 75,
      "outputs": [
        {
          "output_type": "execute_result",
          "data": {
            "text/html": [
              "<div>\n",
              "<style scoped>\n",
              "    .dataframe tbody tr th:only-of-type {\n",
              "        vertical-align: middle;\n",
              "    }\n",
              "\n",
              "    .dataframe tbody tr th {\n",
              "        vertical-align: top;\n",
              "    }\n",
              "\n",
              "    .dataframe thead th {\n",
              "        text-align: right;\n",
              "    }\n",
              "</style>\n",
              "<table border=\"1\" class=\"dataframe\">\n",
              "  <thead>\n",
              "    <tr style=\"text-align: right;\">\n",
              "      <th></th>\n",
              "      <th>date</th>\n",
              "      <th>num_tests</th>\n",
              "      <th>confirmed</th>\n",
              "      <th>recovered</th>\n",
              "      <th>deaths</th>\n",
              "    </tr>\n",
              "  </thead>\n",
              "  <tbody>\n",
              "    <tr>\n",
              "      <th>0</th>\n",
              "      <td>2020-03-05</td>\n",
              "      <td>0.0</td>\n",
              "      <td>1</td>\n",
              "      <td>0.0</td>\n",
              "      <td>0.0</td>\n",
              "    </tr>\n",
              "    <tr>\n",
              "      <th>1</th>\n",
              "      <td>2020-03-07</td>\n",
              "      <td>0.0</td>\n",
              "      <td>2</td>\n",
              "      <td>0.0</td>\n",
              "      <td>0.0</td>\n",
              "    </tr>\n",
              "    <tr>\n",
              "      <th>2</th>\n",
              "      <td>2020-03-08</td>\n",
              "      <td>0.0</td>\n",
              "      <td>3</td>\n",
              "      <td>0.0</td>\n",
              "      <td>0.0</td>\n",
              "    </tr>\n",
              "  </tbody>\n",
              "</table>\n",
              "</div>"
            ],
            "text/plain": [
              "        date  num_tests  confirmed  recovered  deaths\n",
              "0 2020-03-05        0.0          1        0.0     0.0\n",
              "1 2020-03-07        0.0          2        0.0     0.0\n",
              "2 2020-03-08        0.0          3        0.0     0.0"
            ]
          },
          "metadata": {
            "tags": []
          },
          "execution_count": 75
        }
      ]
    },
    {
      "cell_type": "code",
      "metadata": {
        "id": "V8IlyQykKzkW",
        "colab_type": "code",
        "colab": {}
      },
      "source": [
        "dataset['Active_cases'] = dataset['confirmed'] - dataset['recovered'] - dataset['deaths']\n",
        "dataset['recovered_per_confirmed'] = (dataset['recovered']/dataset['confirmed'])\n",
        "dataset['death_per_confirmed'] = (dataset['deaths']/dataset['confirmed'])"
      ],
      "execution_count": 85,
      "outputs": []
    },
    {
      "cell_type": "code",
      "metadata": {
        "id": "ytM-ip3dDpuC",
        "colab_type": "code",
        "colab": {
          "base_uri": "https://localhost:8080/",
          "height": 283
        },
        "outputId": "567395a6-d40b-4de8-d32b-016ba29247e7"
      },
      "source": [
        "dataset.info()"
      ],
      "execution_count": 86,
      "outputs": [
        {
          "output_type": "stream",
          "text": [
            "<class 'pandas.core.frame.DataFrame'>\n",
            "RangeIndex: 184 entries, 0 to 183\n",
            "Data columns (total 8 columns):\n",
            " #   Column                   Non-Null Count  Dtype         \n",
            "---  ------                   --------------  -----         \n",
            " 0   date                     184 non-null    datetime64[ns]\n",
            " 1   num_tests                184 non-null    float64       \n",
            " 2   confirmed                184 non-null    int64         \n",
            " 3   recovered                184 non-null    float64       \n",
            " 4   deaths                   184 non-null    float64       \n",
            " 5   Active_cases             184 non-null    float64       \n",
            " 6   recovered_per_confirmed  184 non-null    float64       \n",
            " 7   death_per_confirmed      184 non-null    float64       \n",
            "dtypes: datetime64[ns](1), float64(6), int64(1)\n",
            "memory usage: 11.6 KB\n"
          ],
          "name": "stdout"
        }
      ]
    },
    {
      "cell_type": "code",
      "metadata": {
        "id": "M_CreZnXFvTX",
        "colab_type": "code",
        "colab": {}
      },
      "source": [
        "df = dataset.copy()"
      ],
      "execution_count": 87,
      "outputs": []
    },
    {
      "cell_type": "code",
      "metadata": {
        "id": "R1I1mDwXG7Qa",
        "colab_type": "code",
        "colab": {}
      },
      "source": [
        "df = df[df['date'] != df['date'].max()] # remove todays' records (since it might be incompleted)"
      ],
      "execution_count": 90,
      "outputs": []
    },
    {
      "cell_type": "code",
      "metadata": {
        "id": "GmknixokHEB2",
        "colab_type": "code",
        "colab": {
          "base_uri": "https://localhost:8080/",
          "height": 197
        },
        "outputId": "8b422d87-7cd2-49e4-f66e-bd23f4d7ba8f"
      },
      "source": [
        "df.tail()"
      ],
      "execution_count": 91,
      "outputs": [
        {
          "output_type": "execute_result",
          "data": {
            "text/html": [
              "<div>\n",
              "<style scoped>\n",
              "    .dataframe tbody tr th:only-of-type {\n",
              "        vertical-align: middle;\n",
              "    }\n",
              "\n",
              "    .dataframe tbody tr th {\n",
              "        vertical-align: top;\n",
              "    }\n",
              "\n",
              "    .dataframe thead th {\n",
              "        text-align: right;\n",
              "    }\n",
              "</style>\n",
              "<table border=\"1\" class=\"dataframe\">\n",
              "  <thead>\n",
              "    <tr style=\"text-align: right;\">\n",
              "      <th></th>\n",
              "      <th>date</th>\n",
              "      <th>num_tests</th>\n",
              "      <th>confirmed</th>\n",
              "      <th>recovered</th>\n",
              "      <th>deaths</th>\n",
              "      <th>Active_cases</th>\n",
              "      <th>recovered_per_confirmed</th>\n",
              "      <th>death_per_confirmed</th>\n",
              "    </tr>\n",
              "  </thead>\n",
              "  <tbody>\n",
              "    <tr>\n",
              "      <th>178</th>\n",
              "      <td>2020-09-01</td>\n",
              "      <td>0.0</td>\n",
              "      <td>628259</td>\n",
              "      <td>563891.0</td>\n",
              "      <td>14779.0</td>\n",
              "      <td>49589.0</td>\n",
              "      <td>0.897545</td>\n",
              "      <td>0.023524</td>\n",
              "    </tr>\n",
              "    <tr>\n",
              "      <th>179</th>\n",
              "      <td>2020-09-02</td>\n",
              "      <td>0.0</td>\n",
              "      <td>630595</td>\n",
              "      <td>0.0</td>\n",
              "      <td>14889.0</td>\n",
              "      <td>615706.0</td>\n",
              "      <td>0.000000</td>\n",
              "      <td>0.023611</td>\n",
              "    </tr>\n",
              "    <tr>\n",
              "      <th>180</th>\n",
              "      <td>2020-09-03</td>\n",
              "      <td>0.0</td>\n",
              "      <td>633015</td>\n",
              "      <td>0.0</td>\n",
              "      <td>0.0</td>\n",
              "      <td>633015.0</td>\n",
              "      <td>0.000000</td>\n",
              "      <td>0.000000</td>\n",
              "    </tr>\n",
              "    <tr>\n",
              "      <th>181</th>\n",
              "      <td>2020-09-04</td>\n",
              "      <td>0.0</td>\n",
              "      <td>635078</td>\n",
              "      <td>0.0</td>\n",
              "      <td>0.0</td>\n",
              "      <td>635078.0</td>\n",
              "      <td>0.000000</td>\n",
              "      <td>0.000000</td>\n",
              "    </tr>\n",
              "    <tr>\n",
              "      <th>182</th>\n",
              "      <td>2020-09-05</td>\n",
              "      <td>0.0</td>\n",
              "      <td>636884</td>\n",
              "      <td>0.0</td>\n",
              "      <td>0.0</td>\n",
              "      <td>636884.0</td>\n",
              "      <td>0.000000</td>\n",
              "      <td>0.000000</td>\n",
              "    </tr>\n",
              "  </tbody>\n",
              "</table>\n",
              "</div>"
            ],
            "text/plain": [
              "          date  num_tests  ...  recovered_per_confirmed  death_per_confirmed\n",
              "178 2020-09-01        0.0  ...                 0.897545             0.023524\n",
              "179 2020-09-02        0.0  ...                 0.000000             0.023611\n",
              "180 2020-09-03        0.0  ...                 0.000000             0.000000\n",
              "181 2020-09-04        0.0  ...                 0.000000             0.000000\n",
              "182 2020-09-05        0.0  ...                 0.000000             0.000000\n",
              "\n",
              "[5 rows x 8 columns]"
            ]
          },
          "metadata": {
            "tags": []
          },
          "execution_count": 91
        }
      ]
    },
    {
      "cell_type": "markdown",
      "metadata": {
        "id": "ICni_4f3lCb7",
        "colab_type": "text"
      },
      "source": [
        "#Visualization"
      ]
    },
    {
      "cell_type": "code",
      "metadata": {
        "id": "ms7G2nHxKMXq",
        "colab_type": "code",
        "colab": {}
      },
      "source": [
        "data_cols = ['confirmed',\n",
        "                         'recovered', \n",
        "                                   'deaths',\n",
        "             ]\n",
        "\n",
        "\n",
        "rate_cols = [\"recovered_per_confirmed\", \"death_per_confirmed\"]"
      ],
      "execution_count": 94,
      "outputs": []
    },
    {
      "cell_type": "code",
      "metadata": {
        "id": "VVBAL0OOFx1n",
        "colab_type": "code",
        "colab": {
          "base_uri": "https://localhost:8080/",
          "height": 438
        },
        "outputId": "49d659b0-938e-4479-aa4b-8519fb171db0"
      },
      "source": [
        "cs.line_plot(df[data_cols], \"Total number of cases over time\")"
      ],
      "execution_count": 95,
      "outputs": [
        {
          "output_type": "display_data",
          "data": {
            "image/png": "[encoded data removed]",
            "text/plain": [
              "<Figure size 648x432 with 1 Axes>"
            ]
          },
          "metadata": {
            "tags": [],
            "needs_background": "light"
          }
        }
      ]
    },
    {
      "cell_type": "code",
      "metadata": {
        "id": "R4wCgCTgMwRL",
        "colab_type": "code",
        "colab": {}
      },
      "source": [
        "case = pd.concat([df['confirmed'],df['Active_cases']],axis=1)"
      ],
      "execution_count": 99,
      "outputs": []
    },
    {
      "cell_type": "code",
      "metadata": {
        "id": "4fd3tQ-ypKzt",
        "colab_type": "code",
        "colab": {
          "base_uri": "https://localhost:8080/",
          "height": 382
        },
        "outputId": "8e2ac916-450f-4dc7-b38c-0ed6f387fbb4"
      },
      "source": [
        "case.plot(kind='bar')\n",
        "plt.show()"
      ],
      "execution_count": 100,
      "outputs": [
        {
          "output_type": "display_data",
          "data": {
            "image/png": "[encoded data removed]",
            "text/plain": [
              "<Figure size 648x432 with 1 Axes>"
            ]
          },
          "metadata": {
            "tags": [],
            "needs_background": "light"
          }
        }
      ]
    },
    {
      "cell_type": "code",
      "metadata": {
        "id": "EeRlM_p-w8dW",
        "colab_type": "code",
        "colab": {
          "base_uri": "https://localhost:8080/",
          "height": 438
        },
        "outputId": "0cb80ea9-0834-48ad-a63e-c703413649d6"
      },
      "source": [
        "cs.line_plot(df[rate_cols], \" rates over time\", ylabel=\"\", math_scale=False)"
      ],
      "execution_count": 102,
      "outputs": [
        {
          "output_type": "display_data",
          "data": {
            "image/png": "[encoded data removed]",
            "text/plain": [
              "<Figure size 648x432 with 1 Axes>"
            ]
          },
          "metadata": {
            "tags": [],
            "needs_background": "light"
          }
        }
      ]
    },
    {
      "cell_type": "code",
      "metadata": {
        "id": "OvHnzIxHuZKK",
        "colab_type": "code",
        "colab": {}
      },
      "source": [
        ""
      ],
      "execution_count": null,
      "outputs": []
    },
    {
      "cell_type": "markdown",
      "metadata": {
        "id": "XEayPhYANz7U",
        "colab_type": "text"
      },
      "source": [
        "#Polynomial Regression"
      ]
    },
    {
      "cell_type": "code",
      "metadata": {
        "id": "SNfGyz-3PNEl",
        "colab_type": "code",
        "colab": {
          "base_uri": "https://localhost:8080/",
          "height": 197
        },
        "outputId": "ae4144d0-7e58-4ad7-990b-7bcb5ab92cb1"
      },
      "source": [
        "df.head()"
      ],
      "execution_count": 104,
      "outputs": [
        {
          "output_type": "execute_result",
          "data": {
            "text/html": [
              "<div>\n",
              "<style scoped>\n",
              "    .dataframe tbody tr th:only-of-type {\n",
              "        vertical-align: middle;\n",
              "    }\n",
              "\n",
              "    .dataframe tbody tr th {\n",
              "        vertical-align: top;\n",
              "    }\n",
              "\n",
              "    .dataframe thead th {\n",
              "        text-align: right;\n",
              "    }\n",
              "</style>\n",
              "<table border=\"1\" class=\"dataframe\">\n",
              "  <thead>\n",
              "    <tr style=\"text-align: right;\">\n",
              "      <th></th>\n",
              "      <th>date</th>\n",
              "      <th>num_tests</th>\n",
              "      <th>confirmed</th>\n",
              "      <th>recovered</th>\n",
              "      <th>deaths</th>\n",
              "      <th>Active_cases</th>\n",
              "      <th>recovered_per_confirmed</th>\n",
              "      <th>death_per_confirmed</th>\n",
              "    </tr>\n",
              "  </thead>\n",
              "  <tbody>\n",
              "    <tr>\n",
              "      <th>0</th>\n",
              "      <td>2020-03-05</td>\n",
              "      <td>0.0</td>\n",
              "      <td>1</td>\n",
              "      <td>0.0</td>\n",
              "      <td>0.0</td>\n",
              "      <td>1.0</td>\n",
              "      <td>0.0</td>\n",
              "      <td>0.0</td>\n",
              "    </tr>\n",
              "    <tr>\n",
              "      <th>1</th>\n",
              "      <td>2020-03-07</td>\n",
              "      <td>0.0</td>\n",
              "      <td>2</td>\n",
              "      <td>0.0</td>\n",
              "      <td>0.0</td>\n",
              "      <td>2.0</td>\n",
              "      <td>0.0</td>\n",
              "      <td>0.0</td>\n",
              "    </tr>\n",
              "    <tr>\n",
              "      <th>2</th>\n",
              "      <td>2020-03-08</td>\n",
              "      <td>0.0</td>\n",
              "      <td>3</td>\n",
              "      <td>0.0</td>\n",
              "      <td>0.0</td>\n",
              "      <td>3.0</td>\n",
              "      <td>0.0</td>\n",
              "      <td>0.0</td>\n",
              "    </tr>\n",
              "    <tr>\n",
              "      <th>3</th>\n",
              "      <td>2020-03-09</td>\n",
              "      <td>0.0</td>\n",
              "      <td>7</td>\n",
              "      <td>0.0</td>\n",
              "      <td>0.0</td>\n",
              "      <td>7.0</td>\n",
              "      <td>0.0</td>\n",
              "      <td>0.0</td>\n",
              "    </tr>\n",
              "    <tr>\n",
              "      <th>4</th>\n",
              "      <td>2020-03-11</td>\n",
              "      <td>0.0</td>\n",
              "      <td>13</td>\n",
              "      <td>0.0</td>\n",
              "      <td>0.0</td>\n",
              "      <td>13.0</td>\n",
              "      <td>0.0</td>\n",
              "      <td>0.0</td>\n",
              "    </tr>\n",
              "  </tbody>\n",
              "</table>\n",
              "</div>"
            ],
            "text/plain": [
              "        date  num_tests  ...  recovered_per_confirmed  death_per_confirmed\n",
              "0 2020-03-05        0.0  ...                      0.0                  0.0\n",
              "1 2020-03-07        0.0  ...                      0.0                  0.0\n",
              "2 2020-03-08        0.0  ...                      0.0                  0.0\n",
              "3 2020-03-09        0.0  ...                      0.0                  0.0\n",
              "4 2020-03-11        0.0  ...                      0.0                  0.0\n",
              "\n",
              "[5 rows x 8 columns]"
            ]
          },
          "metadata": {
            "tags": []
          },
          "execution_count": 104
        }
      ]
    },
    {
      "cell_type": "code",
      "metadata": {
        "id": "_JgaBL2JPR76",
        "colab_type": "code",
        "colab": {}
      },
      "source": [
        "df['days'] = [i+1 for i in range(len(df))]"
      ],
      "execution_count": 111,
      "outputs": []
    },
    {
      "cell_type": "code",
      "metadata": {
        "id": "u1cH_kduQMEV",
        "colab_type": "code",
        "colab": {
          "base_uri": "https://localhost:8080/",
          "height": 197
        },
        "outputId": "77e45d42-0f0f-42cd-e075-32b999a4c7fe"
      },
      "source": [
        "df.head()"
      ],
      "execution_count": 112,
      "outputs": [
        {
          "output_type": "execute_result",
          "data": {
            "text/html": [
              "<div>\n",
              "<style scoped>\n",
              "    .dataframe tbody tr th:only-of-type {\n",
              "        vertical-align: middle;\n",
              "    }\n",
              "\n",
              "    .dataframe tbody tr th {\n",
              "        vertical-align: top;\n",
              "    }\n",
              "\n",
              "    .dataframe thead th {\n",
              "        text-align: right;\n",
              "    }\n",
              "</style>\n",
              "<table border=\"1\" class=\"dataframe\">\n",
              "  <thead>\n",
              "    <tr style=\"text-align: right;\">\n",
              "      <th></th>\n",
              "      <th>date</th>\n",
              "      <th>num_tests</th>\n",
              "      <th>confirmed</th>\n",
              "      <th>recovered</th>\n",
              "      <th>deaths</th>\n",
              "      <th>Active_cases</th>\n",
              "      <th>recovered_per_confirmed</th>\n",
              "      <th>death_per_confirmed</th>\n",
              "      <th>days</th>\n",
              "    </tr>\n",
              "  </thead>\n",
              "  <tbody>\n",
              "    <tr>\n",
              "      <th>0</th>\n",
              "      <td>2020-03-05</td>\n",
              "      <td>0.0</td>\n",
              "      <td>1</td>\n",
              "      <td>0.0</td>\n",
              "      <td>0.0</td>\n",
              "      <td>1.0</td>\n",
              "      <td>0.0</td>\n",
              "      <td>0.0</td>\n",
              "      <td>1</td>\n",
              "    </tr>\n",
              "    <tr>\n",
              "      <th>1</th>\n",
              "      <td>2020-03-07</td>\n",
              "      <td>0.0</td>\n",
              "      <td>2</td>\n",
              "      <td>0.0</td>\n",
              "      <td>0.0</td>\n",
              "      <td>2.0</td>\n",
              "      <td>0.0</td>\n",
              "      <td>0.0</td>\n",
              "      <td>2</td>\n",
              "    </tr>\n",
              "    <tr>\n",
              "      <th>2</th>\n",
              "      <td>2020-03-08</td>\n",
              "      <td>0.0</td>\n",
              "      <td>3</td>\n",
              "      <td>0.0</td>\n",
              "      <td>0.0</td>\n",
              "      <td>3.0</td>\n",
              "      <td>0.0</td>\n",
              "      <td>0.0</td>\n",
              "      <td>3</td>\n",
              "    </tr>\n",
              "    <tr>\n",
              "      <th>3</th>\n",
              "      <td>2020-03-09</td>\n",
              "      <td>0.0</td>\n",
              "      <td>7</td>\n",
              "      <td>0.0</td>\n",
              "      <td>0.0</td>\n",
              "      <td>7.0</td>\n",
              "      <td>0.0</td>\n",
              "      <td>0.0</td>\n",
              "      <td>4</td>\n",
              "    </tr>\n",
              "    <tr>\n",
              "      <th>4</th>\n",
              "      <td>2020-03-11</td>\n",
              "      <td>0.0</td>\n",
              "      <td>13</td>\n",
              "      <td>0.0</td>\n",
              "      <td>0.0</td>\n",
              "      <td>13.0</td>\n",
              "      <td>0.0</td>\n",
              "      <td>0.0</td>\n",
              "      <td>5</td>\n",
              "    </tr>\n",
              "  </tbody>\n",
              "</table>\n",
              "</div>"
            ],
            "text/plain": [
              "        date  num_tests  ...  death_per_confirmed  days\n",
              "0 2020-03-05        0.0  ...                  0.0     1\n",
              "1 2020-03-07        0.0  ...                  0.0     2\n",
              "2 2020-03-08        0.0  ...                  0.0     3\n",
              "3 2020-03-09        0.0  ...                  0.0     4\n",
              "4 2020-03-11        0.0  ...                  0.0     5\n",
              "\n",
              "[5 rows x 9 columns]"
            ]
          },
          "metadata": {
            "tags": []
          },
          "execution_count": 112
        }
      ]
    },
    {
      "cell_type": "code",
      "metadata": {
        "id": "Xn5PPfCZO6Eb",
        "colab_type": "code",
        "colab": {}
      },
      "source": [
        "X = df['days']\n",
        "\n",
        "y= df['confirmed']"
      ],
      "execution_count": 130,
      "outputs": []
    },
    {
      "cell_type": "code",
      "metadata": {
        "id": "piDZVYm1Upva",
        "colab_type": "code",
        "colab": {}
      },
      "source": [
        "X= np.array(X)\n",
        "y=np.array(y)\n",
        "\n",
        "\n",
        "X =X.reshape(-1, 1)\n",
        "y=y.reshape(-1, 1)"
      ],
      "execution_count": 157,
      "outputs": []
    },
    {
      "cell_type": "code",
      "metadata": {
        "id": "DxQZSqZRbQ8r",
        "colab_type": "code",
        "colab": {}
      },
      "source": [
        "from sklearn.preprocessing import PolynomialFeatures\n",
        "from sklearn.pipeline import make_pipeline\n",
        "from sklearn.linear_model import LinearRegression"
      ],
      "execution_count": 159,
      "outputs": []
    },
    {
      "cell_type": "code",
      "metadata": {
        "id": "B-tbYQV8a2_3",
        "colab_type": "code",
        "colab": {
          "base_uri": "https://localhost:8080/",
          "height": 34
        },
        "outputId": "acfd6f41-b435-49c9-b971-e7442faae3bf"
      },
      "source": [
        "poly_reg = PolynomialFeatures(degree = 4)\n",
        "X_poly = poly_reg.fit_transform(X)\n",
        "lin_reg_2 = LinearRegression()\n",
        "lin_reg_2.fit(X_poly, y)"
      ],
      "execution_count": 160,
      "outputs": [
        {
          "output_type": "execute_result",
          "data": {
            "text/plain": [
              "LinearRegression(copy_X=True, fit_intercept=True, n_jobs=None, normalize=False)"
            ]
          },
          "metadata": {
            "tags": []
          },
          "execution_count": 160
        }
      ]
    },
    {
      "cell_type": "code",
      "metadata": {
        "id": "PXOOXnU3X0_P",
        "colab_type": "code",
        "colab": {
          "base_uri": "https://localhost:8080/",
          "height": 401
        },
        "outputId": "e33986ca-0057-4d11-adef-50177e261722"
      },
      "source": [
        "plt.scatter(X, y, color = 'red')\n",
        "plt.plot(X, lin_reg_2.predict(poly_reg.fit_transform(X)), color = 'blue')\n",
        "plt.title('Covid 19')\n",
        "plt.xlabel('days since first case')\n",
        "plt.ylabel('confirmed cases')\n",
        "plt.show()"
      ],
      "execution_count": 166,
      "outputs": [
        {
          "output_type": "display_data",
          "data": {
            "image/png": "[encoded data removed]",
            "text/plain": [
              "<Figure size 648x432 with 1 Axes>"
            ]
          },
          "metadata": {
            "tags": [],
            "needs_background": "light"
          }
        }
      ]
    },
    {
      "cell_type": "code",
      "metadata": {
        "id": "8uympRGzcb-Q",
        "colab_type": "code",
        "colab": {
          "base_uri": "https://localhost:8080/",
          "height": 34
        },
        "outputId": "a45ed334-81cb-4c2f-b948-6a48ecc8e1be"
      },
      "source": [
        "lin_reg_2.predict(poly_reg.fit_transform([[183]]))     #prediction for the 6th of september  ////Actual value was = 638 517\n"
      ],
      "execution_count": 165,
      "outputs": [
        {
          "output_type": "execute_result",
          "data": {
            "text/plain": [
              "array([[639527.88499899]])"
            ]
          },
          "metadata": {
            "tags": []
          },
          "execution_count": 165
        }
      ]
    },
    {
      "cell_type": "code",
      "metadata": {
        "id": "M08k_Vwncfwm",
        "colab_type": "code",
        "colab": {
          "base_uri": "https://localhost:8080/",
          "height": 197
        },
        "outputId": "937f7875-b904-4d13-e870-a10b9d746dc7"
      },
      "source": [
        "df.tail()"
      ],
      "execution_count": 163,
      "outputs": [
        {
          "output_type": "execute_result",
          "data": {
            "text/html": [
              "<div>\n",
              "<style scoped>\n",
              "    .dataframe tbody tr th:only-of-type {\n",
              "        vertical-align: middle;\n",
              "    }\n",
              "\n",
              "    .dataframe tbody tr th {\n",
              "        vertical-align: top;\n",
              "    }\n",
              "\n",
              "    .dataframe thead th {\n",
              "        text-align: right;\n",
              "    }\n",
              "</style>\n",
              "<table border=\"1\" class=\"dataframe\">\n",
              "  <thead>\n",
              "    <tr style=\"text-align: right;\">\n",
              "      <th></th>\n",
              "      <th>date</th>\n",
              "      <th>num_tests</th>\n",
              "      <th>confirmed</th>\n",
              "      <th>recovered</th>\n",
              "      <th>deaths</th>\n",
              "      <th>Active_cases</th>\n",
              "      <th>recovered_per_confirmed</th>\n",
              "      <th>death_per_confirmed</th>\n",
              "      <th>days</th>\n",
              "    </tr>\n",
              "  </thead>\n",
              "  <tbody>\n",
              "    <tr>\n",
              "      <th>178</th>\n",
              "      <td>2020-09-01</td>\n",
              "      <td>0.0</td>\n",
              "      <td>628259</td>\n",
              "      <td>563891.0</td>\n",
              "      <td>14779.0</td>\n",
              "      <td>49589.0</td>\n",
              "      <td>0.897545</td>\n",
              "      <td>0.023524</td>\n",
              "      <td>179</td>\n",
              "    </tr>\n",
              "    <tr>\n",
              "      <th>179</th>\n",
              "      <td>2020-09-02</td>\n",
              "      <td>0.0</td>\n",
              "      <td>630595</td>\n",
              "      <td>0.0</td>\n",
              "      <td>14889.0</td>\n",
              "      <td>615706.0</td>\n",
              "      <td>0.000000</td>\n",
              "      <td>0.023611</td>\n",
              "      <td>180</td>\n",
              "    </tr>\n",
              "    <tr>\n",
              "      <th>180</th>\n",
              "      <td>2020-09-03</td>\n",
              "      <td>0.0</td>\n",
              "      <td>633015</td>\n",
              "      <td>0.0</td>\n",
              "      <td>0.0</td>\n",
              "      <td>633015.0</td>\n",
              "      <td>0.000000</td>\n",
              "      <td>0.000000</td>\n",
              "      <td>181</td>\n",
              "    </tr>\n",
              "    <tr>\n",
              "      <th>181</th>\n",
              "      <td>2020-09-04</td>\n",
              "      <td>0.0</td>\n",
              "      <td>635078</td>\n",
              "      <td>0.0</td>\n",
              "      <td>0.0</td>\n",
              "      <td>635078.0</td>\n",
              "      <td>0.000000</td>\n",
              "      <td>0.000000</td>\n",
              "      <td>182</td>\n",
              "    </tr>\n",
              "    <tr>\n",
              "      <th>182</th>\n",
              "      <td>2020-09-05</td>\n",
              "      <td>0.0</td>\n",
              "      <td>636884</td>\n",
              "      <td>0.0</td>\n",
              "      <td>0.0</td>\n",
              "      <td>636884.0</td>\n",
              "      <td>0.000000</td>\n",
              "      <td>0.000000</td>\n",
              "      <td>183</td>\n",
              "    </tr>\n",
              "  </tbody>\n",
              "</table>\n",
              "</div>"
            ],
            "text/plain": [
              "          date  num_tests  ...  death_per_confirmed  days\n",
              "178 2020-09-01        0.0  ...             0.023524   179\n",
              "179 2020-09-02        0.0  ...             0.023611   180\n",
              "180 2020-09-03        0.0  ...             0.000000   181\n",
              "181 2020-09-04        0.0  ...             0.000000   182\n",
              "182 2020-09-05        0.0  ...             0.000000   183\n",
              "\n",
              "[5 rows x 9 columns]"
            ]
          },
          "metadata": {
            "tags": []
          },
          "execution_count": 163
        }
      ]
    },
    {
      "cell_type": "markdown",
      "metadata": {
        "id": "1JYZkvvyfPMG",
        "colab_type": "text"
      },
      "source": [
        "#SIR Modelling"
      ]
    },
    {
      "cell_type": "markdown",
      "metadata": {
        "id": "W3YeSEOJmA7a",
        "colab_type": "text"
      },
      "source": [
        "The SIR model more accurately represents how an infection would spread through a\n",
        "population because it takes into consideration that some people will recover from the\n",
        "disease and no longer be susceptible. This model assumes that people who recover from\n",
        "the infection become immune and cannot become infected a second time (https://calculate.org.au/wp-content/uploads/sites/15/2018/10/spread-of-disease.pdf)"
      ]
    },
    {
      "cell_type": "code",
      "metadata": {
        "id": "Vi0k_7vKfTaO",
        "colab_type": "code",
        "colab": {}
      },
      "source": [
        "#b = df['recove']\n",
        "\n",
        "g = df['recovered_per_confirmed'].mean()"
      ],
      "execution_count": 173,
      "outputs": []
    },
    {
      "cell_type": "code",
      "metadata": {
        "id": "LhEfz5J1iVj_",
        "colab_type": "code",
        "colab": {
          "base_uri": "https://localhost:8080/",
          "height": 34
        },
        "outputId": "51099d97-44a6-4a48-f11e-4492c8d45710"
      },
      "source": [
        "g"
      ],
      "execution_count": 174,
      "outputs": [
        {
          "output_type": "execute_result",
          "data": {
            "text/plain": [
              "0.49502912287616524"
            ]
          },
          "metadata": {
            "tags": []
          },
          "execution_count": 174
        }
      ]
    },
    {
      "cell_type": "code",
      "metadata": {
        "id": "mdmD__xTjOnm",
        "colab_type": "code",
        "colab": {
          "base_uri": "https://localhost:8080/",
          "height": 34
        },
        "outputId": "b86e198f-acbd-400a-e49e-e33cefe51b1e"
      },
      "source": [
        "(df['confirmed']/df['days']).mean()"
      ],
      "execution_count": 178,
      "outputs": [
        {
          "output_type": "execute_result",
          "data": {
            "text/plain": [
              "1283.8218978142916"
            ]
          },
          "metadata": {
            "tags": []
          },
          "execution_count": 178
        }
      ]
    },
    {
      "cell_type": "code",
      "metadata": {
        "id": "kkQW7_bIjj3x",
        "colab_type": "code",
        "colab": {
          "base_uri": "https://localhost:8080/",
          "height": 34
        },
        "outputId": "fd6fc9c8-4f8d-4c23-ac00-feb781a3fbf9"
      },
      "source": [
        "(df['confirmed']/58000000).mean()"
      ],
      "execution_count": 181,
      "outputs": [
        {
          "output_type": "execute_result",
          "data": {
            "text/plain": [
              "0.003221349820991144"
            ]
          },
          "metadata": {
            "tags": []
          },
          "execution_count": 181
        }
      ]
    },
    {
      "cell_type": "code",
      "metadata": {
        "id": "ZV99TmRbgYdh",
        "colab_type": "code",
        "colab": {}
      },
      "source": [
        "import numpy as np\n",
        "from scipy.integrate import odeint\n",
        "import matplotlib.pyplot as plt\n",
        "\n",
        "# Total population, N.\n",
        "N = 1000\n",
        "# Initial number of infected and recovered individuals, I0 and R0.\n",
        "I0, R0 = 1, 0\n",
        "# Everyone else, S0, is susceptible to infection initially.\n",
        "S0 = N - I0 - R0\n",
        "# Contact rate, beta, and mean recovery rate, gamma, (in 1/days).\n",
        "beta, gamma = 0.5, 0.14\n",
        "# A grid of time points (in days)\n",
        "t = np.linspace(0, 160, 160)\n",
        "\n",
        "# The SIR model differential equations.\n",
        "def deriv(y, t, N, beta, gamma):\n",
        "    S, I, R = y\n",
        "    dSdt = -beta * S * I / N\n",
        "    dIdt = beta * S * I / N - gamma * I\n",
        "    dRdt = gamma * I\n",
        "    return dSdt, dIdt, dRdt\n",
        "\n",
        "# Initial conditions vector\n",
        "y0 = S0, I0, R0\n",
        "# Integrate the SIR equations over the time grid, t.\n",
        "ret = odeint(deriv, y0, t, args=(N, beta, gamma))\n",
        "S, I, R = ret.T\n",
        "\n"
      ],
      "execution_count": 195,
      "outputs": []
    },
    {
      "cell_type": "code",
      "metadata": {
        "id": "FBwRxeSphQPq",
        "colab_type": "code",
        "colab": {
          "base_uri": "https://localhost:8080/",
          "height": 388
        },
        "outputId": "67db585b-c6cc-4db2-a1c7-7d2bfaf1a7df"
      },
      "source": [
        "# Plot the data on three separate curves for S(t), I(t) and R(t)\n",
        "fig = plt.figure(facecolor='w')\n",
        "ax = fig.add_subplot(111, facecolor='#dddddd', axisbelow=True)\n",
        "ax.plot(t, S/1000, 'b', alpha=0.5, lw=2, label='Susceptible')\n",
        "ax.plot(t, I/1000, 'r', alpha=0.5, lw=2, label='Infected')\n",
        "ax.plot(t, R/1000, 'g', alpha=0.5, lw=2, label='Recovered with immunity')\n",
        "ax.set_xlabel('Time /days')\n",
        "ax.set_ylabel('Number (1000s)')\n",
        "ax.set_ylim(0,1.2)\n",
        "ax.yaxis.set_tick_params(length=0)\n",
        "ax.xaxis.set_tick_params(length=0)\n",
        "ax.grid(b=True, which='major', c='w', lw=2, ls='-')\n",
        "legend = ax.legend()\n",
        "legend.get_frame().set_alpha(0.5)\n",
        "for spine in ('top', 'right', 'bottom', 'left'):\n",
        "    ax.spines[spine].set_visible(False)\n",
        "plt.show()"
      ],
      "execution_count": 196,
      "outputs": [
        {
          "output_type": "display_data",
          "data": {
            "image/png": "[encoded data removed]",
            "text/plain": [
              "<Figure size 648x432 with 1 Axes>"
            ]
          },
          "metadata": {
            "tags": []
          }
        }
      ]
    }
  ]
}